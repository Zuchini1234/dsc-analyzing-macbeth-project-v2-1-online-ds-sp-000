{
 "cells": [
  {
   "cell_type": "markdown",
   "metadata": {},
   "source": [
    "# Project: Analyzing Macbeth\n",
    "\n",
    "## Introduction\n",
    "Now we're going to do some rudimentary analysis of Shakespeare's classic play: Macbeth! You will get practice working with lists and dictionaries, conditionals, visualizing data, and thinking analytically about data.\n",
    "\n",
    "## Objectives\n",
    "You will be able to:\n",
    "* Apply string methods to make changes to a string\n",
    "* Use a `for` loop to iterate over a collection\n",
    "* Assign values in a dictionary\n",
    "\n",
    "## Getting the Data\n",
    "Here we start by importing a Python package called `requests`. We'll use it to pull the transcript of Macbeth from the [Project Gutenberg](https://www.gutenberg.org/) website. We'll also preview a few details about what is now stored in the variable `macbeth`. As you can see, it's a string with 120,253 characters - the first 500 of which are printed below. "
   ]
  },
  {
   "cell_type": "code",
   "execution_count": 17,
   "metadata": {},
   "outputs": [
    {
     "name": "stdout",
     "output_type": "stream",
     "text": [
      "<class 'str'>\n",
      "120253\n",
      "s\n"
     ]
    }
   ],
   "source": [
    "import requests\n",
    "macbeth = requests.get('http://www.gutenberg.org/cache/epub/2264/pg2264.txt').text\n",
    "\n",
    "print(type(macbeth))\n",
    "print(len(macbeth))\n",
    "print(macbeth[45000:45001])"
   ]
  },
  {
   "cell_type": "code",
   "execution_count": 96,
   "metadata": {},
   "outputs": [
    {
     "name": "stdout",
     "output_type": "stream",
     "text": [
      "16634\n",
      "The Tragedie of Macbeth\n"
     ]
    },
    {
     "data": {
      "text/plain": [
       "17737"
      ]
     },
     "execution_count": 96,
     "metadata": {},
     "output_type": "execute_result"
    }
   ],
   "source": []
  },
  {
   "cell_type": "markdown",
   "metadata": {},
   "source": [
    "## Your Task\n",
    "\n",
    "Your task is to create a bar graph of the 25 most common words in Shakespeare's Macbeth.  \n",
    "\n",
    "\n",
    "A common Python programming pattern to count objects, produce histograms, or update statistics is to make calls to a dictionary as you iterate through a list. For example, given a list of words, you can create a dictionary to store counts and then iterate through the list of words, checking how many times each word has appeared using your dictionary, and updating the dictionary count now that you've seen that word again. The `.get()` dictionary method is very useful in doing this. Read the docstring for the `.get()` method and use it along with the pseudocode below to create a bar graph of the 25 most common words from the transcript of Macbeth which has been loaded into the variable 'macbeth'. Be sure to include a title and appropriate labels for your graph.\n",
    "\n",
    "To get the 25 *most common* words, you will have to sort your counts. If you are not super sure how to do this, checkout out the [Sorting HOW TO](https://docs.python.org/3/howto/sorting.html) Python documentation. Part of being a data scientist is figuring out how to do tasks that you may not have done before. Remember, in these situations, Google is your friend!"
   ]
  },
  {
   "cell_type": "code",
   "execution_count": 165,
   "metadata": {},
   "outputs": [
    {
     "name": "stdout",
     "output_type": "stream",
     "text": [
      "16634\n",
      "The Tragedie of Macbeth\n"
     ]
    },
    {
     "data": {
      "text/plain": [
       "list"
      ]
     },
     "execution_count": 165,
     "metadata": {},
     "output_type": "execute_result"
    }
   ],
   "source": [
    "# Separating intro text\n",
    "\n",
    "print(macbeth.index(\"David Reed\"))\n",
    "print(macbeth[16648:16671])\n",
    "str_only_macbeth = macbeth[16648:]\n",
    "\n",
    "macbeth_split.index(\"Reed\")\n",
    "# print(macbeth_split[2652:])\n",
    "\n",
    "only_macbeth = macbeth_split[2652:]\n",
    "# print(only_macbeth)\n",
    "\n",
    "len(only_macbeth)\n",
    "type(only_macbeth)"
   ]
  },
  {
   "cell_type": "code",
   "execution_count": null,
   "metadata": {},
   "outputs": [],
   "source": [
    "counts = []\n",
    "for word in macbeth_set:\n",
    "    "
   ]
  },
  {
   "cell_type": "code",
   "execution_count": 133,
   "metadata": {},
   "outputs": [
    {
     "name": "stdout",
     "output_type": "stream",
     "text": [
      "Number of unique words = 5396\n",
      "528\n"
     ]
    }
   ],
   "source": [
    "macbeth_set = list(set(only_macbeth))\n",
    "print(f\"Number of unique words = {len(macbeth_set)}\")\n",
    "\n",
    "def word_count():\n",
    "    counts = dict()\n",
    "    words = only_macbeth\n",
    "    \n",
    "    for word in words:\n",
    "        if word in counts:\n",
    "            counts[word] += 1\n",
    "        else:\n",
    "            counts[word] = 1\n",
    "            \n",
    "    return counts\n",
    "\n",
    "macbeth_count = word_count()\n",
    "print(macbeth_count['the'])"
   ]
  },
  {
   "cell_type": "code",
   "execution_count": 129,
   "metadata": {},
   "outputs": [
    {
     "data": {
      "text/plain": [
       "4877"
      ]
     },
     "execution_count": 129,
     "metadata": {},
     "output_type": "execute_result"
    }
   ],
   "source": [
    "for w in only_macbeth:\n",
    "    if type(w) != str:\n",
    "        print(f\"{w} is an int\") \n",
    "# I assume that this means that all of the contents of only_macbeth are strings\n",
    "\n",
    "Macbeth = []\n",
    "for w in only_macbeth:\n",
    "    Macbeth.append(w.title())\n",
    "len(Macbeth)\n",
    "\n",
    "only_Macbeth = list(set(Macbeth)) # this is the true count of words adjusted for capitalization\n",
    "len(only_Macbeth)"
   ]
  },
  {
   "cell_type": "code",
   "execution_count": 180,
   "metadata": {},
   "outputs": [
    {
     "name": "stdout",
     "output_type": "stream",
     "text": [
      "<class 'dict'>\n"
     ]
    }
   ],
   "source": [
    "#now to try and count the number of times the words appear\n",
    "#remember to use Macbeth as that is the case adjusted version\n",
    "#NOT only_Macbeth - that is just a test of the # of unique words in Macbeth\n",
    "\n",
    "def word_count():\n",
    "    counts = dict()\n",
    "    words = Macbeth\n",
    "    \n",
    "    for word in words:\n",
    "        if word in counts:\n",
    "            counts[word] += 1\n",
    "        else:\n",
    "            counts[word] = 1\n",
    "            \n",
    "    return counts\n",
    "\n",
    "Macbeth_count = word_count()\n",
    "print(type(Macbeth_count))\n"
   ]
  },
  {
   "cell_type": "code",
   "execution_count": 179,
   "metadata": {},
   "outputs": [
    {
     "name": "stdout",
     "output_type": "stream",
     "text": [
      "Primus.\n",
      "Prima.\n",
      "Lightning.\n",
      "Witches.\n",
      "1.\n",
      "2.\n",
      "3.\n",
      "All.\n",
      "Ayre.\n",
      "Exeunt.\n",
      "Secunda.\n",
      "Within.\n",
      "Captaine.\n",
      "King.\n",
      "Mal.\n",
      "Cap.\n",
      "Surgeons.\n",
      "Angus.\n",
      "Lenox.\n",
      "Rosse.\n",
      "Cold.\n",
      "Wonne.\n",
      "Tertia.\n",
      "Thunder.\n",
      "I.\n",
      "Cryes.\n",
      "Card.\n",
      "Tempest-Tost.\n",
      "Come.\n",
      "Nine.\n",
      "Vp.\n",
      "Banquo.\n",
      "Macb.\n",
      "Mac.\n",
      "Banq.\n",
      "Not.\n",
      "Cawdor.\n",
      "You.\n",
      "Vanish.\n",
      "Winde.\n",
      "Ang.\n",
      "Loose.\n",
      "Behinde.\n",
      "Paines.\n",
      "Consequence.\n",
      "Theame.\n",
      "Good.\n",
      "Forgotten.\n",
      "Them.\n",
      "Friends.\n",
      "Quarta.\n",
      "Flourish.\n",
      "Attendants.\n",
      "Back.\n",
      "It.\n",
      "Face.\n",
      "Trust.\n",
      "Me.\n",
      "Thee.\n",
      "Selfe.\n",
      "Growing.\n",
      "Sorrow.\n",
      "Deseruers.\n",
      "Lyes.\n",
      "See.\n",
      "Enter.\n",
      "Kinsman.\n",
      "Quinta.\n",
      "Letter.\n",
      "Lady.\n",
      "Knowledge.\n",
      "Vanish'D.\n",
      "Be.\n",
      "Farewell.\n",
      "Way.\n",
      "Winne.\n",
      "Vndone.\n",
      "Withall.\n",
      "Messenger.\n",
      "Mess.\n",
      "Battlements.\n",
      "Hit.\n",
      "Mischiefe.\n",
      "Hold.\n",
      "Macbeth.\n",
      "Time.\n",
      "Vnder'T.\n",
      "Sexta.\n",
      "Torches.\n",
      "Delicate.\n",
      "Loue.\n",
      "La.\n",
      "Him.\n",
      "Hostesse.\n",
      "Septima.\n",
      "Hoboyes.\n",
      "Stage.\n",
      "Lips.\n",
      "Other.\n",
      "Man.\n",
      "Males.\n",
      "Feat.\n",
      "Know.\n",
      "Secundus.\n",
      "Fleance.\n",
      "Too.\n",
      "Repose.\n",
      "Torch.\n",
      "Bed.\n",
      "Offices.\n",
      "Well.\n",
      "Bell.\n",
      "Still.\n",
      "Draw.\n",
      "Vse.\n",
      "Before.\n",
      "Eyes.\n",
      "Ghost.\n",
      "Giues.\n",
      "Rings.\n",
      "Hell.\n",
      "Fire.\n",
      "Good-Night.\n",
      "Snores.\n",
      "Dye.\n",
      "'Em.\n",
      "Don'T.\n",
      "Cry.\n",
      "Hand.\n",
      "Deuill.\n",
      "Guilt.\n",
      "Red.\n",
      "White.\n",
      "Knocke.\n",
      "Deed.\n",
      "Vnattended.\n",
      "Knocking.\n",
      "Could'St.\n",
      "Porter.\n",
      "Key.\n",
      "Knock.\n",
      "For'T.\n",
      "Equiuocator.\n",
      "Goose.\n",
      "Bonfire.\n",
      "Macd.\n",
      "Port.\n",
      "Vrine.\n",
      "Performance.\n",
      "Seruice.\n",
      "Macduffe.\n",
      "Night.\n",
      "Macduff.\n",
      "Gorgon.\n",
      "Horror.\n",
      "Fell.\n",
      "Ban.\n",
      "Where.\n",
      "So.\n",
      "Of.\n",
      "Donalbaine.\n",
      "Donal.\n",
      "Reason.\n",
      "Further.\n",
      "Contented.\n",
      "Malc.\n",
      "Easie.\n",
      "Don.\n",
      "Ayme.\n",
      "Left.\n",
      "Vpon'T.\n",
      "Ross.\n",
      "M.\n",
      "Foes.\n",
      "Tertius.\n",
      "Kings.\n",
      "Hope.\n",
      "More.\n",
      "Sounded.\n",
      "Morrow.\n",
      "Supper.\n",
      "Inuention.\n",
      "Ioyntly.\n",
      "Backs.\n",
      "Farwell.\n",
      "Lords.\n",
      "Seruant.\n",
      "Vs.\n",
      "Fear'D.\n",
      "Safetie.\n",
      "Caesar.\n",
      "Vtterance.\n",
      "Murtherers.\n",
      "Call.\n",
      "Murth.\n",
      "1.Murth.\n",
      "Meeting.\n",
      "Men.\n",
      "2.Murth.\n",
      "Will.\n",
      "Spent.\n",
      "Ioy.\n",
      "Tooth.\n",
      "Extasie.\n",
      "Pale.\n",
      "Rowse.\n",
      "Day.\n",
      "Walke.\n",
      "Reuenge.\n",
      "Done.\n",
      "Prepar'D.\n",
      "Welcome.\n",
      "Murtherer.\n",
      "Round.\n",
      "Mur.\n",
      "Feares.\n",
      "Present.\n",
      "Againe.\n",
      "Murderer.\n",
      "Place.\n",
      "Promise.\n",
      "Lord.\n",
      "Youth.\n",
      "Duncan.\n",
      "Eare.\n",
      "Stooles.\n",
      "Tremble.\n",
      "Girle.\n",
      "Hence.\n",
      "Goodnight.\n",
      "Len.\n",
      "Blood.\n",
      "Feed.\n",
      "Sisters.\n",
      "Indeed.\n",
      "Hecat.\n",
      "Hec.\n",
      "Destinie.\n",
      "End.\n",
      "Noone.\n",
      "Confusion.\n",
      "Enemie.\n",
      "Song.\n",
      "&C.\n",
      "Borne.\n",
      "Late.\n",
      "Deny'T.\n",
      "Fleans.\n",
      "Disgrace.\n",
      "Respect.\n",
      "Now.\n",
      "Prouide.\n",
      "Quartus.\n",
      "Slab.\n",
      "In.\n",
      "Knockes.\n",
      "Show.\n",
      "Head.\n",
      "Appar.\n",
      "Enough.\n",
      "Descends.\n",
      "Aright.\n",
      "First.\n",
      "Childe.\n",
      "Descend.\n",
      "Custome.\n",
      "Satisfied.\n",
      "Depart.\n",
      "Eye-Bals.\n",
      "Former.\n",
      "Carry.\n",
      "His.\n",
      "Delights.\n",
      "Pay.\n",
      "Musicke.\n",
      "Kalender.\n",
      "There.\n",
      "Horse.\n",
      "Surprize.\n",
      "Line.\n",
      "Sights.\n",
      "Are.\n",
      "Wife.\n",
      "Touch.\n",
      "Season.\n",
      "Moue.\n",
      "Discomfort.\n",
      "Once.\n",
      "Son.\n",
      "Mes.\n",
      "Neerely.\n",
      "Thus.\n",
      "Person.\n",
      "Longer.\n",
      "Harme.\n",
      "Folly.\n",
      "Murther.\n",
      "Wil.\n",
      "Perchance.\n",
      "Yet.\n",
      "Is.\n",
      "Charge.\n",
      "Doubts.\n",
      "Leaue-Taking.\n",
      "Affear'D.\n",
      "Wounds.\n",
      "Thousands.\n",
      "Name.\n",
      "Owne.\n",
      "None.\n",
      "Wayes.\n",
      "Liue.\n",
      "Liu'D.\n",
      "Scotland.\n",
      "Honor.\n",
      "Detraction.\n",
      "Nature.\n",
      "Life.\n",
      "Quarrell.\n",
      "Reconcile.\n",
      "Doctor.\n",
      "Anon.\n",
      "Doct.\n",
      "Art.\n",
      "Amend.\n",
      "Euill.\n",
      "Benediction.\n",
      "Grace.\n",
      "A-Foot.\n",
      "Like.\n",
      "Ro.\n",
      "Comforted.\n",
      "Children.\n",
      "Tongue.\n",
      "Leaue.\n",
      "Quintus.\n",
      "Gentlewoman.\n",
      "Report.\n",
      "Gent.\n",
      "Watching.\n",
      "Speech.\n",
      "Taper.\n",
      "Lad.\n",
      "Say.\n",
      "Murky.\n",
      "Sight.\n",
      "Colours.\n",
      "Soldiers.\n",
      "Ment.\n",
      "Cath.\n",
      "Birnan.\n",
      "Marching.\n",
      "Feare.\n",
      "Ser.\n",
      "Boy.\n",
      "Seyton.\n",
      "Sey.\n",
      "Hackt.\n",
      "Seyt.\n",
      "Dispatch.\n",
      "Heere.\n",
      "Seyw.\n",
      "Sold.\n",
      "Syw.\n",
      "Warre.\n",
      "Home.\n",
      "Women.\n",
      "In'T.\n",
      "Death.\n",
      "Nothing.\n",
      "Comming.\n",
      "Much.\n",
      "Truth.\n",
      "Dunsinane.\n",
      "Here.\n",
      "Vndon.\n",
      "Backe.\n",
      "Boughes.\n",
      "Battell.\n",
      "Continued.\n",
      "Course.\n",
      "Seyward.\n",
      "Y.Sey.\n",
      "Speak'St.\n",
      "Slaine.\n",
      "Alarums.\n",
      "Vndeeded.\n",
      "Bruited.\n",
      "Exit.\n",
      "Castle.\n",
      "Out.\n",
      "Curse.\n",
      "Last.\n",
      "Fighting.\n",
      "Comfort.\n",
      "Mine.\n",
      "Scone.\n",
      "Omnes.\n",
      "Finis.\n"
     ]
    }
   ],
   "source": [
    "for key in Macbeth_count:\n",
    "    if key.endswith(\".\"):\n",
    "        print(key)"
   ]
  },
  {
   "cell_type": "code",
   "execution_count": 182,
   "metadata": {},
   "outputs": [
    {
     "name": "stdout",
     "output_type": "stream",
     "text": [
      "[('The', 646), ('Tragedie', 2), ('Of', 337), ('Macbeth', 26), ('Actus', 5), ('Primus.', 1), ('Scoena', 1), ('Prima.', 5), ('Thunder', 2), ('And', 544), ('Lightning.', 1), ('Enter', 74), ('Three', 13), ('Witches.', 4), ('1.', 21), ('When', 39), ('Shall', 67), ('We', 82), ('Meet', 6), ('Againe?', 2), ('In', 195), ('Thunder,', 1), ('Lightning,', 1), ('Or', 37), ('Raine?', 1), ('2.', 12), (\"Hurley-Burley'S\", 1), ('Done,', 7), (\"Battaile'S\", 1), ('Lost,', 3), ('Wonne', 1), ('3.', 14), ('That', 220), ('Will', 69), ('Be', 132), ('Ere', 15), ('Set', 7), ('Sunne', 3), ('Where', 34), ('Place?', 2), ('Vpon', 58), ('Heath', 2), ('There', 29), ('To', 383), ('With', 152), ('I', 314), ('Come,', 15), ('Gray-Malkin', 1), ('All.', 16), ('Padock', 1), ('Calls', 2), ('Anon:', 1), ('Faire', 4), ('Is', 175), ('Foule,', 2), ('Foule', 3), ('Faire,', 1), ('Houer', 1), ('Through', 6), ('Fogge', 1), ('Filthie', 2), ('Ayre.', 1), ('Exeunt.', 29), ('Scena', 22), ('Secunda.', 5), ('Alarum', 5), ('Within.', 7), ('King,', 19), ('Malcome,', 1), ('Donalbaine,', 3), ('Lenox,', 8), ('Attendants,', 1), ('Meeting', 3), ('A', 238), ('Bleeding', 1), ('Captaine.', 1), ('King.', 18), ('What', 100), ('Bloody', 13), ('Man', 16), ('That?', 2), ('He', 107), ('Can', 24), ('Report,', 3), ('As', 85), ('Seemeth', 1), ('By', 46), ('His', 143), ('Plight,', 1), ('Reuolt', 1), ('Newest', 3), ('State', 4), ('Mal.', 25), ('This', 95), ('Serieant,', 1), ('Who', 40), ('Like', 37), ('Good', 42), ('Hardie', 1), ('Souldier', 2), ('Fought', 1), (\"'Gainst\", 4), ('My', 201), ('Captiuitie:', 1), ('Haile', 13), ('Braue', 2), ('Friend;', 1), ('Say', 22), ('Knowledge', 1), ('Broyle,', 1), ('Thou', 85), ('Didst', 3), ('Leaue', 11), ('It', 134), ('Cap.', 3), ('Doubtfull', 2), ('Stood,', 2), ('Two', 9), ('Spent', 1), ('Swimmers,', 1), ('Doe', 30), ('Cling', 2), ('Together,', 2), ('Choake', 1), ('Their', 62), ('Art:', 1), ('Mercilesse', 1), ('Macdonwald', 1), ('(Worthie', 1), ('Rebell,', 1), ('For', 107), ('Multiplying', 1), ('Villanies', 1), ('Nature', 12), ('Swarme', 1), ('Him)', 2), ('From', 56), ('Westerne', 1), ('Isles', 1), ('Kernes', 2), ('Gallowgrosses', 1), (\"Supply'D,\", 1), ('Fortune', 2), ('On', 51), ('Damned', 3), ('Quarry', 2), ('Smiling,', 1), (\"Shew'D\", 2), ('Rebells', 1), ('Whore:', 1), ('But', 120), (\"All'S\", 4), ('Too', 19), ('Weake:', 1), ('(Well', 1), ('Hee', 7), ('Deserues', 2), ('Name)', 1), ('Disdayning', 1), ('Fortune,', 5), ('Brandisht', 1), ('Steele,', 2), ('Which', 78), (\"Smoak'D\", 1), ('Execution', 3), ('(Like', 1), ('Valours', 1), ('Minion)', 1), (\"Caru'D\", 1), ('Out', 16), ('Passage,', 1), ('Till', 20), (\"Fac'D\", 1), ('Slaue:', 1), (\"Neu'R\", 1), ('Shooke', 1), ('Hands,', 4), ('Nor', 24), ('Bad', 4), ('Farwell', 1), ('Him,', 18), (\"Vnseam'D\", 1), ('Him', 56), ('Naue', 1), (\"Toth'\", 5), ('Chops,', 1), (\"Fix'D\", 1), ('Head', 2), ('Our', 123), ('Battlements', 1), ('O', 13), ('Valiant', 3), ('Cousin,', 2), ('Worthy', 15), ('Gentleman', 1), ('Whence', 6), (\"'Gins\", 1), ('Reflection,', 1), ('Shipwracking', 1), ('Stormes,', 1), ('Direfull', 1), ('Thunders:', 1), ('So', 78), ('Spring,', 2), ('Comfort', 4), (\"Seem'D\", 2), ('Discomfort', 1), ('Swells:', 1), ('Marke', 2), ('King', 14), ('Scotland,', 4), ('Marke,', 1), ('No', 63), ('Sooner', 2), ('Iustice', 2), ('Had,', 2), ('Valour', 2), (\"Arm'D,\", 1), (\"Compell'D\", 1), ('These', 22), ('Skipping', 1), ('Trust', 2), ('Heeles,', 2), ('Norweyan', 3), ('Lord,', 17), ('Surueying', 1), ('Vantage,', 2), ('Furbusht', 1), ('Armes,', 1), ('New', 12), ('Supplyes', 1), ('Men,', 7), ('Began', 3), ('Fresh', 1), ('Assault', 1), (\"Dismay'D\", 1), ('Not', 145), ('Captaines,', 1), ('Banquoh?', 1), ('Yes,', 2), ('Sparrowes,', 1), ('Eagles;', 1), ('Hare,', 1), ('Lyon:', 1), ('If', 42), ('Sooth,', 2), ('Must', 36), ('Report', 5), ('They', 68), ('Were', 38), ('Cannons', 1), (\"Ouer-Charg'D\", 1), ('Double', 4), ('Cracks,', 1), ('Doubly', 1), ('Redoubled', 1), ('Stroakes', 2), ('Foe:', 1), ('Except', 1), ('Meant', 1), ('Bathe', 1), ('Reeking', 1), ('Wounds,', 2), ('Memorize', 1), ('Another', 5), ('Golgotha,', 1), ('Cannot', 20), ('Tell:', 1), ('Am', 29), ('Faint,', 1), ('Gashes', 3), ('Cry', 4), ('Helpe', 4), ('Well', 13), ('Thy', 56), ('Words', 5), ('Become', 4), ('Thee,', 8), ('Smack', 1), ('Honor', 6), ('Both:', 2), ('Goe', 12), ('Get', 9), ('Surgeons.', 1), ('Rosse', 3), ('Angus.', 3), ('Comes', 11), ('Here?', 3), ('Thane', 19), ('Lenox.', 20), ('Haste', 1), ('Lookes', 1), ('Eyes?', 1), ('Should', 40), ('Looke,', 2), ('Seemes', 5), ('Speake', 20), ('Things', 21), ('Strange', 13), ('Rosse.', 40), ('God', 12), ('Saue', 1), (\"Cam'St\", 1), ('Thou,', 1), ('Thane?', 2), ('Fiffe,', 1), ('Great', 30), ('Banners', 2), ('Flowt', 1), ('Skie,', 1), ('Fanne', 1), ('People', 2), ('Cold.', 2), ('Norway', 1), ('Himselfe,', 1), ('Terrible', 4), ('Numbers,', 1), ('Assisted', 1), ('Most', 22), ('Disloyall', 1), ('Traytor,', 1), ('Cawdor,', 5), ('Dismall', 2), ('Conflict,', 1), (\"Bellona'S\", 1), ('Bridegroome,', 1), ('Lapt', 1), ('Proofe,', 1), ('Confronted', 1), ('Selfe-Comparisons,', 1), ('Point', 3), ('Against', 14), ('Point,', 2), ('Rebellious', 2), ('Arme', 1), ('Arme,', 3), ('Curbing', 1), ('Lauish', 1), ('Spirit:', 1), ('Conclude,', 1), ('Victorie', 1), ('Fell', 6), ('Vs', 42), ('Happinesse', 1), ('Now', 40), ('Sweno,', 1), ('Norwayes', 1), ('Craues', 1), ('Composition:', 1), ('Would', 45), ('Deigne', 1), ('Buriall', 1), ('Disbursed,', 1), ('At', 49), ('Saint', 1), ('Colmes', 1), ('Ynch,', 1), ('Ten', 5), ('Thousand', 4), ('Dollars,', 1), ('Generall', 3), ('Vse', 4), ('More', 37), ('Cawdor', 8), ('Deceiue', 1), ('Bosome', 2), ('Interest:', 1), ('Pronounce', 4), ('Present', 5), ('Death,', 7), ('Former', 4), ('Title', 4), ('Greet', 2), ('Ile', 35), ('See', 25), ('Done', 19), ('Hath', 52), ('Noble', 12), ('Wonne.', 1), ('Tertia.', 5), ('Thunder.', 6), ('Hast', 6), ('Beene,', 2), ('Sister?', 1), ('Killing', 1), ('Swine', 1), ('Sister,', 1), ('Thou?', 1), ('Saylors', 1), ('Wife', 5), ('Had', 32), ('Chestnuts', 1), ('Her', 36), ('Lappe,', 1), ('Mouncht,', 2), ('&', 17), ('Mouncht:', 1), ('Giue', 24), ('Me,', 21), ('Quoth', 1), ('I.', 1), ('Aroynt', 1), ('Witch,', 1), ('Rumpe-Fed', 1), ('Ronyon', 1), ('Cryes.', 1), (\"Husband'S\", 1), ('Aleppo', 1), ('Gone,', 3), ('Master', 5), (\"O'Th'\", 13), ('Tiger:', 1), ('Syue', 1), ('Thither', 4), ('Sayle,', 1), ('Rat', 1), ('Without', 13), ('Tayle,', 1), ('Doe,', 7), ('Thee', 43), ('Winde', 1), (\"Th'Art\", 1), ('Kinde', 3), ('Selfe', 15), ('Haue', 119), ('All', 73), ('Other,', 5), ('Very', 11), ('Ports', 1), ('Blow,', 1), ('Quarters', 1), ('Know,', 5), (\"I'Th'\", 15), ('Ship-Mans', 1), ('Card.', 1), ('Dreyne', 1), ('Drie', 1), ('Hay:', 1), ('Sleepe', 11), ('Neyther', 2), ('Night', 17), ('Day', 11), ('Hang', 8), ('Pent-House', 1), ('Lid:', 1), ('Liue', 6), ('Forbid:', 1), ('Wearie', 2), (\"Seu'Nights,\", 1), ('Nine', 2), ('Times', 3), ('Nine,', 1), ('Dwindle,', 1), ('Peake,', 1), ('Pine:', 1), ('Though', 17), ('Barke', 1), ('Yet', 52), ('Tempest-Tost.', 1), ('Looke', 21), ('Shew', 14), ('Me', 74), ('Here', 9), ('Pilots', 1), ('Thumbe,', 1), ('Wrackt,', 1), ('Homeward', 1), ('Did', 38), ('Come.', 2), ('Drum', 4), ('Drumme,', 1), ('Drumme:', 1), ('Doth', 6), ('Come', 36), ('Weyward', 3), ('Sisters,', 3), ('Hand', 7), ('Hand,', 6), ('Posters', 1), ('Sea', 3), ('Land,', 2), ('Thus', 9), ('Goe,', 2), ('About,', 2), ('Thrice', 4), ('Thine,', 3), ('Mine,', 3), ('Againe,', 3), ('Make', 38), ('Vp', 20), ('Nine.', 1), ('Peace,', 5), (\"Charme'S\", 1), ('Wound', 2), ('Vp.', 1), ('Banquo.', 6), ('Macb.', 137), ('Seene', 6), ('How', 32), ('Farre', 3), (\"Is'T\", 8), (\"Call'D\", 4), ('Soris?', 1), ('Are', 65), ('These,', 1), (\"Wither'D,\", 1), ('Wilde', 3), ('Attyre,', 1), (\"Th'\", 26), ('Inhabitants', 1), ('Earth,', 1), (\"On'T?\", 1), ('You,', 14), ('You', 166), ('Aught', 1), ('May', 29), ('Question?', 1), ('Seeme', 7), ('Vnderstand', 1), ('Each', 13), ('Once', 8), ('Choppie', 1), ('Finger', 2), ('Laying', 1), ('Skinnie', 1), ('Lips:', 2), ('Women,', 2), ('Your', 126), ('Beards', 1), ('Forbid', 1), ('Interprete', 1), ('Mac.', 10), ('Can:', 1), ('You?', 5), ('Macbeth,', 24), ('Glamis', 2), ('Shalt', 6), ('Hereafter', 1), ('Banq.', 24), ('Sir,', 18), ('Why', 31), ('Start,', 2), ('Feare', 16), ('Sound', 4), ('Faire?', 1), ('Name', 10), ('Truth', 5), ('Ye', 3), ('Fantasticall,', 2), ('Indeed', 3), ('Outwardly', 1), ('Shew?', 1), ('Partner', 2), ('Grace,', 4), ('Prediction', 1), ('Hauing,', 1), ('Royall', 9), ('Hope,', 1), ('Wrapt', 1), ('Withall:', 1), ('Not.', 4), ('Into', 12), ('Seedes', 2), ('Time,', 19), ('Say,', 13), ('Graine', 1), ('Grow,', 2), ('Not,', 11), ('Then', 57), ('Begge,', 1), ('Fauors,', 1), ('Hate', 2), ('Hayle', 3), ('Lesser', 2), ('Than', 1), ('Greater', 3), ('Happy,', 1), ('Much', 11), ('Happyer', 1), ('Kings,', 4), ('None:', 2), ('Banquo', 13), ('Banquo,', 13), ('Stay', 5), ('Imperfect', 1), ('Speakers,', 1), ('Tell', 9), ('More:', 6), ('Sinells', 1), ('Know', 26), ('Glamis,', 2), ('How,', 1), ('Cawdor?', 3), ('Liues', 7), ('Prosperous', 1), ('Gentleman:', 1), ('Stands', 5), ('Within', 9), ('Prospect', 1), ('Beleefe,', 1), ('Cawdor.', 3), ('Owe', 1), ('Intelligence,', 1), ('Blasted', 1), ('Stop', 2), ('Way', 11), ('Such', 24), ('Prophetique', 1), ('Greeting?', 1), ('Speake,', 3), ('Charge', 2), ('You.', 8), ('Witches', 3), ('Vanish.', 2), ('Earth', 6), ('Bubbles,', 1), ('Water', 3), (\"Ha'S,\", 1), ('Them:', 6), ('Whither', 2), (\"Vanish'D?\", 1), ('Ayre:', 3), ('Corporall,', 1), ('Melted,', 1), ('Breath', 6), ('Winde.', 2), (\"Stay'D\", 1), ('Here,', 3), ('About?', 1), ('Eaten', 2), ('Insane', 1), ('Root,', 1), ('Takes', 5), ('Reason', 4), ('Prisoner?', 1), ('Children', 3), ('Kings', 2), ('Too:', 4), ('Went', 4), ('So?', 4), ('Selfe-Same', 2), ('Tune', 1), ('Words:', 2), (\"Who'S\", 7), ('Happily', 1), (\"Receiu'D,\", 2), ('Newes', 2), ('Successe:', 3), ('Reades', 1), ('Personall', 1), ('Venture', 1), ('Rebels', 1), ('Sight,', 4), ('Wonders', 1), ('Prayses', 2), ('Contend,', 1), ('His:', 1), (\"Silenc'D\", 1), ('That,', 2), ('Viewing', 1), (\"O'Re\", 3), ('Rest', 6), ('Day,', 5), ('Findes', 2), ('Stout', 1), ('Rankes,', 1), ('Nothing', 12), ('Afeard', 1), ('Images', 1), ('Thick', 3), ('Tale', 2), ('Post', 1), ('Post,', 1), ('Euery', 16), ('One', 25), ('Beare', 8), ('Kingdomes', 2), ('Defence,', 2), (\"Powr'D\", 1), ('Them', 26), ('Downe', 6), ('Before', 14), ('Ang.', 4), ('Wee', 4), ('Sent,', 1), ('Thanks,', 2), ('Onely', 9), ('Harrold', 1), ('Pay', 3), ('An', 28), ('Earnest', 2), ('Honor,', 3), ('Call', 8), ('Cawdor:', 2), ('Addition,', 2), ('Thane,', 4), ('Thine', 7), ('What,', 4), ('Deuill', 2), ('True?', 1), ('Liues:', 2), ('Dresse', 1), ('Borrowed', 1), ('Robes?', 1), ('Was', 44), ('Yet,', 3), ('Vnder', 7), ('Heauie', 4), ('Iudgement', 2), ('Beares', 2), ('Life,', 5), ('Loose.', 1), ('Whether', 4), (\"Combin'D\", 1), ('Those', 24), ('Norway,', 1), ('Lyne', 1), ('Rebell', 1), ('Hidden', 1), ('Helpe,', 1), ('Vantage;', 1), ('Both', 15), (\"Labour'D\", 1), ('Countreyes', 1), ('Wracke,', 2), ('Not:', 3), ('Treasons', 1), ('Capitall,', 1), (\"Confess'D,\", 1), (\"Prou'D,\", 1), ('Ouerthrowne', 1), ('Glamys,', 3), ('Greatest', 2), ('Behinde.', 1), ('Thankes', 5), ('Paines.', 1), ('Hope', 5), ('Gaue', 2), (\"Promis'D\", 2), ('Lesse', 8), ('Trusted', 2), ('Home,', 1), ('Might', 7), ('Enkindle', 1), ('Vnto', 3), ('Crowne,', 2), ('Besides', 2), (\"'Tis\", 35), ('Strange:', 2), ('Oftentimes,', 1), ('Winne', 2), ('Harme,', 1), ('Instruments', 1), ('Darknesse', 2), ('Truths,', 1), ('Honest', 4), ('Trifles,', 1), (\"Betray'S\", 1), ('Deepest', 1), ('Consequence.', 1), ('Cousins,', 1), ('Word,', 1), ('Pray', 13), ('Truths', 1), ('Told,', 1), ('Happy', 2), ('Prologues', 1), ('Swelling', 1), ('Act', 2), ('Imperiall', 2), ('Theame.', 1), ('Thanke', 4), ('Gentlemen:', 1), ('Supernaturall', 1), ('Solliciting', 1), ('Ill;', 1), ('Good.', 2), ('Ill?', 1), ('Giuen', 6), ('Successe,', 1), ('Commencing', 1), ('Truth?', 1), ('Good?', 1), ('Yeeld', 4), ('Suggestion,', 1), ('Whose', 14), ('Horrid', 3), ('Image', 1), ('Vnfixe', 2), ('Heire,', 1), ('Seated', 1), ('Heart', 13), ('Knock', 1), ('Ribbes,', 1), ('Nature?', 1), ('Feares', 5), ('Horrible', 3), ('Imaginings:', 1), ('Thought,', 4), ('Murther', 5), ('Shakes', 1), ('Single', 3), ('Man,', 6), ('Function', 1), (\"Smother'D\", 1), ('Surmise,', 1), ('Is,', 3), (\"Partner'S\", 1), ('Rapt', 2), ('Chance', 3), ('Crowne', 3), ('Stirre', 2), ('Honors', 3), ('Garments,', 1), ('Cleaue', 2), ('Mould,', 1), ('Aid', 1), ('May,', 2), ('Houre,', 4), ('Runs', 1), ('Roughest', 1), ('Leysure', 2), ('Fauour:', 1), ('Dull', 1), ('Braine', 1), ('Wrought', 4), ('Forgotten.', 1), ('Gentlemen,', 1), ('Paines', 1), ('Registred,', 1), ('Turne', 3), ('Leafe,', 2), ('Reade', 2), ('Them.', 3), ('Let', 35), ('Toward', 5), ('King:', 1), ('Thinke', 10), (\"Chanc'D:\", 1), ('Interim', 1), ('Hauing', 2), (\"Weigh'D\", 2), ('It,', 13), ('Free', 4), ('Hearts', 2), ('Other', 8), ('Gladly', 1), ('Enough:', 4), ('Friends.', 1), ('Quarta.', 4), ('Flourish.', 5), ('Malcolme,', 8), ('Attendants.', 5), ('Commission', 1), (\"Return'D?\", 1), ('Liege,', 2), ('Back.', 1), ('Spoke', 3), ('Saw', 4), ('Die:', 1), ('Frankly', 1), (\"Confess'D\", 1), ('Treasons,', 1), (\"Implor'D\", 1), ('Highnesse', 8), ('Pardon,', 1), ('Forth', 6), ('Deepe', 3), ('Repentance:', 1), ('Life', 9), ('Became', 2), ('Leauing', 1), ('It.', 8), (\"Dy'De,\", 1), ('Beene', 9), ('Studied', 1), ('Throw', 7), ('Away', 4), ('Dearest', 4), ('Thing', 5), (\"Ow'D,\", 1), (\"'Twere\", 3), ('Carelesse', 1), ('Trifle', 1), (\"There'S\", 14), ('Art,', 3), ('Finde', 11), ('Mindes', 2), ('Construction', 1), ('Face.', 1), ('Gentleman,', 1), ('Whom', 10), ('Built', 1), ('Absolute', 3), ('Trust.', 1), ('Rosse,', 6), ('Worthyest', 1), ('Sinne', 2), ('Ingratitude', 1), ('Euen', 10), ('Me.', 9), ('Art', 11), ('Before,', 4), ('Swiftest', 1), ('Wing', 2), ('Recompence', 1), ('Slow,', 2), ('Ouertake', 1), ('Thee.', 3), ('Hadst', 1), (\"Deseru'D,\", 2), ('Proportion', 1), ('Payment,', 1), ('Mine:', 2), ('Left', 5), ('Due,', 1), ('Seruice,', 2), ('Loyaltie', 1), ('Owe,', 2), ('Doing', 2), ('Payes', 1), ('Selfe.', 7), ('Part,', 2), ('Receiue', 5), ('Duties:', 1), ('Duties', 2), ('Throne,', 3), ('State,', 3), ('Children,', 2), ('Seruants;', 1), ('Should,', 1), ('Safe', 4), ('Loue', 9), ('Welcome', 6), ('Hither:', 1), ('Begun', 1), ('Plant', 2), ('Labour', 3), ('Full', 9), ('Growing.', 1), ('Knowne', 7), ('So:', 5), ('Enfold', 1), ('Hold', 7), ('Haruest', 1), ('Owne', 15), ('Plenteous', 1), ('Ioyes,', 1), ('Wanton', 1), ('Fulnesse,', 1), ('Seeke', 3), ('Hide', 4), ('Themselues', 3), ('Drops', 1), ('Sorrow.', 1), ('Sonnes,', 2), ('Kinsmen,', 1), ('Thanes,', 3), ('Places', 1), ('Nearest,', 1), ('Establish', 1), ('Estate', 2), ('Eldest,', 1), ('Hereafter,', 2), ('Prince', 2), ('Cumberland:', 2), ('Vnaccompanied,', 1), ('Inuest', 1), ('Onely,', 1), ('Signes', 1), ('Noblenesse,', 1), ('Starres,', 1), ('Shine', 2), ('Deseruers.', 1), ('Hence', 5), ('Envernes,', 1), ('Binde', 1), ('Further', 3), ('Labor,', 1), (\"Vs'D\", 2), ('You:', 9), ('Herbenger,', 1), ('Ioyfull', 2), ('Hearing', 2), ('Wife,', 7), ('Approach:', 1), ('Humbly', 1), ('Take', 17), ('Step,', 1), ('Fall', 5), ('Downe,', 4), ('Else', 10), (\"O'Re-Leape,\", 1), ('Lyes.', 1), ('Starres', 1), ('Fires,', 1), ('Light', 6), ('Black', 3), ('Desires:', 1), ('Eye', 7), ('Winke', 1), ('Hand:', 3), ('Bee,', 1), ('Feares,', 1), ('See.', 2), ('Enter.', 7), ('True', 4), ('Banquo:', 2), ('Valiant,', 1), ('Commendations,', 1), ('Fed:', 1), ('Banquet', 2), (\"Let'S\", 7), ('After', 6), ('Care', 3), ('Gone', 4), ('Bid', 7), ('Welcome:', 3), ('Peerelesse', 1), ('Kinsman.', 1), ('Quinta.', 3), ('Macbeths', 4), ('Alone', 2), ('Letter.', 1), ('Lady.', 41), ('Met', 3), (\"Learn'D\", 1), (\"Perfect'St\", 1), ('Them,', 11), ('Mortall', 6), ('Knowledge.', 1), ('Burnt', 1), ('Desire', 5), ('Question', 3), ('Further,', 4), ('Made', 12), ('Ayre,', 3), (\"Vanish'D.\", 1), ('Whiles', 4), ('Stood', 2), ('Wonder', 1), ('Came', 5), ('Missiues', 1), (\"All-Hail'D\", 1), ('Sisters', 1), ('Saluted', 1), (\"Referr'D\", 1), ('Comming', 3), ('Be.', 1), ('Thought', 9), ('Deliuer', 1), ('(My', 2), ('Greatnesse)', 1), (\"Might'St\", 1), ('Loose', 2), ('Dues', 1), ('Reioycing', 1), ('Being', 9), ('Ignorant', 2), ('Greatnesse', 2), ('Lay', 4), ('Farewell.', 1), ('Glamys', 1), (\"Promis'D:\", 1), ('Nature,', 6), ('Milke', 3), ('Humane', 2), ('Kindnesse,', 1), ('Catch', 3), ('Neerest', 1), ('Way.', 2), (\"Would'St\", 6), ('Great,', 1), ('Ambition,', 3), ('Illnesse', 1), ('Attend', 5), ('Highly,', 2), ('Holily:', 1), ('Play', 4), ('False,', 3), ('Wrongly', 1), ('Winne.', 1), (\"Thould'St\", 1), ('Haue,', 2), ('Cryes,', 1), ('It;', 2), ('Rather', 7), (\"Do'St\", 1), ('Wishest', 1), ('Vndone.', 2), ('High', 5), ('Hither,', 2), ('Powre', 5), ('Spirits', 3), ('Eare,', 3), ('Chastise', 1), ('Tongue', 5), ('Impeides', 1), ('Golden', 4), ('Round,', 2), ('Fate', 4), ('Metaphysicall', 1), ('Ayde', 1), (\"Crown'D\", 2), ('Withall.', 1), ('Messenger.', 4), ('Tidings?', 1), ('Mess.', 2), (\"Thou'Rt\", 1), ('Mad', 2), ('Him?', 1), ('Who,', 3), (\"Wer'T\", 1), ('So,', 6), (\"Inform'D\", 1), ('Preparation', 2), ('Please', 6), ('True:', 1), ('Comming:', 1), ('Fellowes', 1), ('Speed', 1), ('Him;', 3), ('Almost', 8), ('Dead', 4), ('Breath,', 1), ('Scarcely', 1), ('Message', 2), ('Tending,', 1), ('Brings', 1), ('Newes,', 1), ('Exit', 12), ('Rauen', 2), ('Himselfe', 6), ('Hoarse,', 1), ('Croakes', 1), ('Fatall', 4), ('Entrance', 1), ('Duncan', 6), ('Battlements.', 1), ('Spirits,', 2), ('Tend', 1), ('Thoughts,', 2), ('Vnsex', 1), ('Fill', 5), ('Toe,', 1), ('Top-Full', 1), ('Direst', 1), ('Crueltie:', 1), ('Blood,', 8), ('Accesse,', 1), ('Passage', 1), ('Remorse,', 1), ('Compunctious', 1), ('Visitings', 1), ('Shake', 7), ('Purpose,', 1), ('Keepe', 12), ('Peace', 2), ('Betweene', 2), ('Effect,', 1), ('Hit.', 1), ('Womans', 3), ('Brests,', 1), ('Gall,', 1), (\"Murth'Ring\", 1), ('Ministers,', 1), ('Where-Euer,', 1), ('Sightlesse', 2), ('Substances,', 1), ('Wait', 2), ('Natures', 5), ('Mischiefe.', 1), ('Night,', 8), ('Pall', 1), ('Dunnest', 1), ('Smoake', 1), ('Hell,', 3), ('Keene', 2), ('Knife', 2), ('Makes,', 1), ('Heauen', 10), ('Peepe', 1), ('Blanket', 1), ('Darke,', 1), ('Cry,', 3), ('Hold,', 3), ('Hold.', 1), ('Macbeth.', 9), ('Both,', 1), ('All-Haile', 1), ('Letters', 1), ('Transported', 1), ('Beyond', 2), ('Present,', 1), ('Feele', 4), ('Future', 1), ('Instant', 1), ('Loue,', 5), ('Goes', 7), ('Hence?', 1), ('Morrow,', 6), ('Purposes', 1), ('Neuer,', 1), ('Morrow', 4), ('Face,', 5), ('Booke,', 1), ('Men', 8), ('Matters,', 1), ('Beguile', 1), ('Time.', 3), ('Eye,', 4), ('Tongue:', 3), ('Innocent', 5), ('Flower,', 2), ('Serpent', 2), (\"Vnder'T.\", 1), (\"That'S\", 9), ('Comming,', 1), ('Prouided', 1), ('For:', 2), ('Put', 16), ('Nights', 5), ('Businesse', 4), ('Dispatch,', 1), ('Nights,', 2), ('Dayes', 8), ('Solely', 1), ('Soueraigne', 2), ('Sway,', 1), ('Masterdome', 1), ('Cleare:', 1), ('Alter', 1), ('Fauor,', 1), ('Euer', 8), ('Feare:', 4), ('Sexta.', 3), ('Hoboyes,', 1), ('Torches.', 2), ('Macduff,', 5), ('Angus,', 3), ('Castle', 3), ('Pleasant', 1), ('Seat,', 2), ('Ayre', 6), ('Nimbly', 1), ('Sweetly', 1), ('Recommends', 1), ('Gentle', 6), ('Sences', 2), ('Guest', 3), ('Summer,', 1), ('Temple-Haunting', 1), ('Barlet', 1), ('Does', 7), ('Approue,', 1), ('Loued', 1), ('Mansonry,', 1), ('Heauens', 2), ('Smells', 1), ('Wooingly', 1), ('Here:', 1), ('Iutty', 1), ('Frieze,', 1), ('Buttrice,', 1), ('Coigne', 1), ('Bird', 2), ('Pendant', 1), ('Bed,', 6), ('Procreant', 1), ('Cradle,', 1), ('Breed,', 2), ('Haunt:', 1), (\"Obseru'D\", 1), ('Delicate.', 1), ('See,', 4), (\"Honor'D\", 1), ('Hostesse:', 1), ('Followes', 1), ('Vs,', 5), ('Sometime', 2), ('Trouble,', 4), ('Still', 11), ('Loue.', 2), ('Herein', 1), ('Teach', 2), ('God-Eyld', 1), ('Paines,', 2), ('Trouble', 2), ('Twice', 1), ('Double,', 7), ('Poore,', 1), ('Businesse,', 3), ('Contend', 2), ('Deepe,', 3), ('Broad,', 2), ('Wherewith', 1), ('Maiestie', 1), ('Loades', 1), ('House:', 2), ('Old,', 1), ('Late', 1), ('Dignities,', 1), (\"Heap'D\", 1), ('Ermites', 1), (\"Where'S\", 1), ('Courst', 1), ('Purpose', 3), ('Purueyor:', 1), ('Rides', 1), ('Well,', 16), ('(Sharpe', 1), ('Spurre)', 1), ('Holp', 1), ('Home', 2), ('Vs:', 4), ('Hostesse', 2), ('La.', 21), ('Seruants', 2), ('Euer,', 4), ('Theirs,', 1), ('Themselues,', 3), ('Theirs', 1), ('Compt,', 1), ('Audit', 1), ('Pleasure,', 2), ('Returne', 5), ('Conduct', 1), ('Mine', 20), ('Host', 1), ('Continue,', 1), ('Graces', 3), ('Towards', 4), ('Him.', 7), ('Hostesse.', 1), ('Septima.', 2), ('Hoboyes.', 1), ('Sewer,', 1), ('Diuers', 1), ('Dishes', 1), ('Seruice', 1), ('Ouer', 1), ('Stage.', 1), (\"'Twer\", 1), ('Quickly:', 1), ('Assassination', 1), ('Could', 14), ('Trammell', 1), ('Consequence,', 1), ('Surcease,', 1), ('Blow', 3), ('All,', 4), ('End', 2), ('Heere,', 4), ('Banke', 1), ('Schoole', 2), (\"Wee'Ld\", 1), ('Iumpe', 1), ('Cases,', 1), ('Instructions,', 1), ('Taught,', 1), ('Plague', 1), ('Inuenter,', 1), ('Euen-Handed', 1), ('Commends', 1), ('Ingredience', 2), (\"Poyson'D\", 1), ('Challice', 1), ('Lips.', 1), (\"Hee'S\", 5), ('Heere', 15), ('Trust;', 1), ('First,', 1), ('Kinsman,', 1), ('Subiect,', 1), ('Strong', 5), ('Deed:', 3), ('Then,', 5), ('Host,', 1), ('Murtherer', 1), ('Shut', 3), ('Doore,', 2), ('Besides,', 1), ('Duncane', 3), ('Borne', 9), ('Faculties', 1), ('Meeke;', 1), ('Bin', 3), ('Cleere', 1), ('Office,', 1), ('Vertues', 1), ('Pleade', 1), ('Angels,', 1), (\"Trumpet-Tongu'D\", 1), ('Damnation', 1), ('Taking', 1), ('Off:', 2), ('Pitty,', 1), ('Naked', 2), ('New-Borne-Babe,', 1), ('Striding', 1), ('Blast,', 1), ('Cherubin,', 1), (\"Hors'D\", 1), ('Curriors', 1), ('Deed', 7), ('Teares', 2), ('Drowne', 2), ('Spurre', 1), ('Pricke', 2), ('Sides', 3), ('Intent,', 1), ('Vaulting', 1), ('Ore-Leapes', 1), ('Selfe,', 8), ('Falles', 1), ('Other.', 1), ('Now?', 5), ('Newes?', 1), ('Has', 2), ('Supt:', 1), ('Chamber?', 2), (\"Ask'D\", 2), ('Me?', 3), (\"Ha'S?\", 1), ('Proceed', 1), ('Businesse:', 1), (\"Honour'D\", 1), ('Late,', 3), ('Bought', 2), ('Opinions', 1), ('Sorts', 1), ('People,', 2), ('Worne', 1), ('Glosse,', 1), ('Cast', 3), ('Aside', 1), ('Soone', 3), ('Drunke,', 1), ('Wherein', 1), ('Drest', 1), ('Selfe?', 1), ('Slept', 1), ('Since?', 1), ('Wakes', 1), ('Greene,', 1), ('Pale,', 1), ('Freely?', 1), ('Account', 1), (\"Affear'D\", 1), ('Same', 1), ('Act,', 2), ('Valour,', 2), ('Desire?', 1), (\"Esteem'St\", 1), ('Ornament', 1), ('Coward', 1), ('Esteeme?', 1), ('Letting', 1), ('Dare', 11), ('Would,', 2), ('Poore', 15), ('Cat', 2), ('Addage', 1), ('Prythee', 4), ('Peace:', 2), ('Do', 38), ('Dares', 2), ('More,', 4), ('None', 8), ('Beast', 1), (\"Was'T\", 4), ('Breake', 3), ('Enterprize', 1), ('Durst', 1), ('Man:', 4), ('Were,', 1), ('Man.', 5), ('Place', 5), ('Adhere,', 1), ('Fitnesse', 1), (\"Do'S\", 16), ('Vnmake', 1), ('Sucke,', 1), ('Tender', 2), ('Babe', 1), ('Milkes', 1), ('While', 6), ('Smyling', 1), ('Pluckt', 1), ('Nipple', 1), ('Bonelesse', 1), ('Gummes,', 1), ('Dasht', 1), ('Braines', 2), ('Out,', 7), ('Sworne', 1), ('Faile?', 2), ('Screw', 1), ('Courage', 1), ('Sticking', 2), ('Place,', 2), (\"Wee'Le\", 2), ('Fayle:', 1), ('Asleepe,', 1), ('(Whereto', 1), ('Hard', 3), ('Iourney', 1), ('Soundly', 1), ('Inuite', 1), ('Chamberlaines', 1), ('Wine,', 2), ('Wassell,', 1), ('Conuince,', 1), ('Memorie,', 1), ('Warder', 1), ('Braine,', 2), ('Fume,', 1), ('Receit', 1), ('Lymbeck', 1), ('Onely:', 2), ('Swinish', 1), ('Sleepe,', 8), ('Drenched', 1), ('Lyes', 4), ('Performe', 4), ('Vnguarded', 1), ('Duncan?', 1), ('Spungie', 1), ('Officers?', 1), ('Guilt', 1), ('Quell', 1), ('Bring', 9), ('Men-Children', 1), ('Vndaunted', 1), ('Mettle', 1), ('Compose', 1), ('Males.', 1), (\"Mark'D\", 1), ('Blood', 13), ('Sleepie', 2), ('Chamber,', 3), ('Daggers,', 2), (\"Don'T?\", 1), ('Griefes', 1), ('Clamor', 1), ('Rore,', 1), ('Death?', 1), ('Settled,', 1), ('Bend', 1), ('Corporall', 1), ('Agent', 1), ('Feat.', 1), ('Away,', 6), ('Mock', 2), ('Time', 21), ('Fairest', 1), ('Show,', 1), ('False', 6), ('Face', 4), ('Know.', 2), ('Secundus.', 1), ('Fleance,', 1), ('Torch', 1), ('Boy?', 1), ('Fleance.', 2), ('Moone', 2), ('Downe:', 5), ('Heard', 8), ('Clock', 2), ('She', 17), ('Twelue', 1), (\"Take'T,\", 1), ('Later,', 1), ('Sir', 7), ('Sword:', 4), ('Husbandry', 1), ('Heauen,', 3), ('Candles', 1), ('Out:', 2), ('Too.', 2), ('Summons', 3), ('Lead', 1), ('Sleepe:', 3), ('Mercifull', 2), ('Powers,', 1), ('Restraine', 1), ('Cursed', 2), ('Thoughts', 8), ('Giues', 3), ('Repose.', 1), ('Seruant', 3), ('Torch.', 2), ('There?', 5), ('Friend', 2), ('Rest?', 1), (\"King'S\", 1), ('Bed.', 3), ('Vnusuall', 1), ('Sent', 3), ('Largesse', 1), ('Offices.', 1), ('Diamond', 1), ('Greetes', 1), ('Withall,', 3), ('Kind', 1), ('Hostesse,', 1), ('Measurelesse', 1), ('Content', 1), (\"Vnprepar'D,\", 1), ('Defect,', 1), ('Well.', 2), ('Dreamt', 1), ('Last', 5), ('Sisters:', 1), ('Some', 17), ('Entreat', 1), ('Houre', 5), ('Serue,', 1), ('Spend', 4), ('Graunt', 1), (\"Kind'St\", 1), ('Consent,', 1), (\"'Tis,\", 1), ('Lose', 1), ('None,', 1), ('Seeking', 1), ('Augment', 1), (\"Franchis'D,\", 1), ('Allegeance', 1), ('Cleare,', 1), (\"Counsail'D\", 1), ('Repose', 1), ('Sir:', 2), ('Mistresse,', 1), ('Drinke', 6), ('Ready,', 3), ('Strike', 5), ('Bell.', 2), ('Dagger,', 1), ('Handle', 1), ('Hand?', 2), ('Clutch', 1), ('Thee:', 6), ('Still.', 1), ('Vision,', 1), ('Sensible', 1), ('Feeling,', 1), ('Sight?', 1), ('Dagger', 1), ('Minde,', 4), ('Creation,', 1), ('Proceeding', 1), ('Heat-Oppressed', 1), ('Braine?', 1), ('Forme', 1), ('Palpable,', 1), ('Draw.', 1), (\"Marshall'St\", 1), ('Going,', 2), ('Instrument', 1), ('Vse.', 1), ('Eyes', 5), ('Fooles', 2), ('Sences,', 1), ('Worth', 3), ('Rest:', 1), ('Still;', 1), ('Blade,', 1), ('Dudgeon,', 1), ('Gouts', 1), ('Before.', 2), ('Thing:', 2), ('Informes', 1), ('Eyes.', 2), ('Halfe', 3), ('World', 5), ('Dead,', 7), ('Wicked', 2), ('Dreames', 1), ('Abuse', 1), (\"Curtain'D\", 1), ('Witchcraft', 1), ('Celebrates', 1), ('Pale', 1), ('Heccats', 2), ('Offrings:', 1), (\"Wither'D\", 1), ('Murther,', 3), (\"Alarum'D\", 1), ('Centinell,', 1), ('Wolfe,', 2), (\"Howle'S\", 1), ('Watch,', 1), ('Stealthy', 1), ('Pace,', 1), ('Tarquins', 1), ('Rauishing', 1), ('Sides,', 1), ('Designe', 1), ('Moues', 2), ('Ghost.', 2), ('Sowre', 1), ('Firme-Set', 1), ('Heare', 18), ('Steps,', 1), ('Walke,', 1), ('Stones', 2), ('Prate', 1), ('Where-About,', 1), ('Horror', 1), ('Sutes', 1), ('Threat,', 1), ('Heat', 1), ('Deedes', 1), ('Cold', 3), ('Giues.', 1), ('Bell', 3), ('Rings.', 2), ('Done:', 6), ('Inuites', 1), ('Duncan,', 2), ('Knell,', 2), ('Hell.', 2), ('The[M]', 2), ('Drunk,', 1), ('Bold:', 1), (\"Quench'D\", 1), ('Fire.', 1), ('Hearke,', 5), ('Owle', 3), (\"Shriek'D,\", 1), ('Bell-Man,', 1), (\"Stern'St\", 1), ('Good-Night.', 1), ('About', 9), ('Doores', 1), ('Open:', 1), ('Surfeted', 1), ('Groomes', 3), ('Snores.', 1), (\"Drugg'D\", 1), ('Possets,', 1), ('Death', 8), ('Liue,', 2), ('Dye.', 1), ('Hoa?', 1), ('Alack,', 1), ('Afraid', 1), (\"Awak'D,\", 1), ('Attempt,', 1), ('Deed,', 2), ('Confounds', 1), ('Hearke:', 1), (\"Lay'D\", 1), ('Daggers', 4), ('Misse', 1), (\"'Em.\", 1), ('Resembled', 1), ('Father', 8), ('Slept,', 1), (\"Don'T.\", 1), ('Husband?', 3), ('Noyse?', 2), ('Schreame,', 1), ('Crickets', 1), ('Cry.', 1), ('Speake?', 1), ('When?', 1), ('Descended?', 1), ('Second', 4), ('Donalbaine', 2), ('Sorry', 2), ('Sight', 3), ('Foolish', 1), ('Laugh', 4), (\"In'S\", 1), (\"Cry'D\", 2), ('Wake', 3), ('Other:', 1), ('Prayers,', 2), ('Addrest', 1), ('Againe', 10), (\"Lodg'D\", 1), ('Together', 2), ('Blesse', 3), ('Amen', 3), ('Hangmans', 1), ('Hands:', 2), ('Listning', 1), ('Feare,', 9), ('Amen,', 1), ('Consider', 1), ('Deepely', 1), ('Wherefore', 3), ('Amen?', 1), ('Need', 4), ('Blessing,', 1), ('Stuck', 1), ('Throat', 3), ('Deeds', 2), ('Wayes:', 1), ('Voyce', 1), ('Sleep', 1), ('Knits', 1), (\"Rauel'D\", 1), ('Sleeue', 1), ('Care,', 1), ('Sore', 2), ('Labors', 1), ('Bath,', 1), ('Balme', 1), ('Hurt', 1), ('Mindes,', 1), ('Course,', 1), ('Chiefe', 2), ('Nourisher', 1), (\"Life'S\", 2), ('Feast', 3), ('Meane?', 1), (\"Cry'D,\", 1), (\"Murther'D\", 4), ('Therefore', 3), (\"Cry'D?\", 1), ('Vnbend', 1), ('Strength,', 1), ('Braine-Sickly', 1), ('Things:', 1), ('Water,', 1), ('Wash', 3), ('Witnesse', 2), ('Hand.', 5), ('Lye', 5), ('There:', 3), ('Carry', 1), ('Smeare', 1), ('Afraid,', 1), (\"On'T\", 2), ('Infirme', 1), ('Purpose:', 1), ('Daggers:', 1), ('Sleeping,', 1), ('Pictures:', 1), ('Childhood,', 1), ('Painted', 2), ('Deuill.', 1), ('Bleed,', 2), ('Guild', 1), ('Faces', 3), ('Guilt.', 1), ('Knocke', 1), ('Knocking?', 1), ('Noyse', 1), ('Appalls', 1), ('Hands', 6), ('Hah:', 1), ('Pluck', 1), ('Neptunes', 1), ('Ocean', 1), ('Cleane', 1), ('No:', 3), ('Multitudinous', 1), ('Seas', 1), ('Incarnardine,', 1), ('Making', 1), ('Greene', 1), ('One,', 5), ('Red.', 1), ('Colour:', 1), ('Shame', 3), ('Weare', 3), ('White.', 1), ('Knocke.', 3), ('Knocking', 5), ('South', 1), ('Entry:', 1), ('Retyre', 1), ('Chamber:', 1), ('Little', 6), ('Cleares', 1), ('Deed.', 1), ('Easie', 2), ('Then?', 1), ('Constancie', 1), ('Vnattended.', 1), ('Knocking.', 1), ('Night-Gowne,', 2), ('Least', 4), ('Occasion', 1), ('Watchers:', 1), ('Lost', 3), ('Poorely', 1), ('Best', 8), ('Knocking:', 1), (\"Could'St.\", 1), ('Porter.', 3), (\"Here'S\", 4), ('Indeede:', 1), ('Porter', 1), ('Hell', 3), ('Gate,', 1), ('Old', 8), ('Turning', 1), ('Key.', 1), ('Knock.', 9), ('Knock,', 6), ('Belzebub?', 1), ('Farmer,', 1), (\"Hang'D\", 2), ('Expectation', 1), ('Plentie:', 1), ('Napkins', 1), ('Enow', 1), (\"You'Le\", 1), ('Sweat', 1), (\"For'T.\", 1), ('Deuils', 1), ('Name?', 2), ('Faith', 2), ('Equiuocator,', 1), ('Sweare', 1), ('Scales', 1), ('Eyther', 1), ('Scale,', 1), ('Committed', 1), ('Treason', 2), ('Enough', 2), ('Gods', 3), ('Sake,', 1), ('Equiuocate', 1), ('Heauen:', 2), ('Oh', 4), ('In,', 3), ('Equiuocator.', 1), (\"'Faith\", 1), ('English', 6), ('Taylor', 1), ('Stealing', 1), ('French', 1), ('Hose:', 1), ('Taylor,', 1), ('Rost', 1), ('Goose.', 1), ('Neuer', 12), ('Quiet:', 1), ('Deuill-Porter', 1), ('Further:', 1), ('Professions,', 1), ('Primrose', 1), ('Euerlasting', 1), ('Bonfire.', 1), ('Anon,', 2), ('Remember', 4), ('Macd.', 58), ('Friend,', 1), ('Late?', 1), ('Port.', 3), ('Carowsing', 1), ('Cock:', 1), ('Drinke,', 2), ('Prouoker', 1), ('Especially', 1), ('Prouoke?', 1), ('Marry,', 1), ('Nose-Painting,', 1), ('Vrine.', 1), ('Lecherie,', 1), ('Prouokes,', 1), ('Vnprouokes:', 1), ('Prouokes', 1), ('Desire,', 1), ('Performance.', 1), ('Said', 4), ('Equiuocator', 1), ('Lecherie:', 1), ('Makes', 5), ('Marres', 1), ('Sets', 1), ('On,', 3), ('Off;', 1), ('Perswades', 1), ('Dis-Heartens', 1), ('Stand', 10), ('Too,', 3), ('Conclusion,', 1), ('Equiuocates', 1), ('Giuing', 1), ('Lye,', 3), ('Leaues', 2), ('Beleeue,', 2), ('Did,', 1), (\"I'The\", 1), ('Me:', 5), ('Requited', 1), ('(I', 1), ('Thinke)', 1), ('Tooke', 2), ('Legges', 1), ('Sometime,', 1), ('Shift', 2), ('Stirring?', 1), (\"Ha'S\", 15), (\"Awak'D\", 1), ('Him:', 3), ('Stirring,', 1), ('Command', 4), ('Timely', 2), ('Slipt', 1), ('Delight', 2), ('Physicks', 1), ('Paine:', 1), ('Doore', 1), ('Bold', 2), ('Call,', 1), ('Limitted', 1), ('Seruice.', 1), ('Macduffe.', 6), ('Day?', 1), ('Does:', 1), ('Appoint', 1), ('Been', 3), ('Vnruly:', 1), ('Lay,', 1), ('Chimneys', 1), ('Blowne', 1), ('(As', 3), ('Say)', 1), ('Lamentings', 1), ('Ayre;', 1), ('Schreemes', 1), ('Prophecying,', 1), ('Accents', 1), ('Terrible,', 1), ('Dyre', 1), ('Combustion,', 1), (\"Confus'D\", 1), ('Euents,', 1), (\"Hatch'D\", 1), ('Wofull', 1), ('Obscure', 1), (\"Clamor'D\", 1), ('Liue-Long', 1), ('Night.', 3), ('Feuorous,', 1), (\"'Twas\", 1), ('Rough', 1), ('Young', 4), ('Remembrance', 3), ('Paralell', 1), ('Fellow', 1), ('Macduff.', 2), ('Horror,', 3), ('Conceiue,', 1), (\"What'S\", 12), ('Matter?', 1), ('Confusion', 1), ('Master-Peece:', 1), ('Sacrilegious', 1), ('Broke', 4), ('Ope', 1), ('Lords', 1), ('Anoynted', 1), ('Temple,', 1), ('Stole', 1), ('Thence', 3), ('Building', 1), ('Life?', 1), ('Meane', 1), ('Maiestie?', 1), ('Approch', 1), ('Destroy', 1), ('Gorgon.', 1), ('Speake:', 5), ('Selues:', 2), ('Awake,', 3), ('Ring', 3), ('Bell:', 1), ('Treason,', 1), ('Donalbaine:', 1), ('Malcolme', 4), ('Off', 5), ('Downey', 1), ('Deaths', 1), ('Counterfeit,', 1), ('Selfe:', 1), ('Vp,', 3), ('Doomes', 1), ('Image:', 1), ('Graues', 2), ('Rise', 4), ('Walke', 2), ('Sprights,', 3), ('Countenance', 1), ('Horror.', 1), ('Businesse?', 1), ('Hideous', 1), ('Trumpet', 1), ('Parley', 1), ('Sleepers', 1), ('House?', 2), ('Lady,', 4), ('Repetition', 1), ('Fell.', 2), (\"Master'S\", 1), ('Woe,', 2), ('Alas:', 1), ('Ban.', 7), ('Cruell,', 1), ('Any', 8), ('Where.', 1), ('Deare', 2), ('Duff,', 1), ('Contradict', 1), ('So.', 2), (\"Dy'D\", 2), ('Chance,', 2), (\"Liu'D\", 3), ('Blessed', 1), ('Time:', 2), ('Instant,', 1), ('Serious', 1), ('Mortalitie:', 1), ('Toyes:', 1), ('Renowne', 1), ('Grace', 5), ('Wine', 1), ('Drawne,', 1), ('Meere', 3), ('Lees', 1), ('Vault,', 1), ('Brag', 1), ('Of.', 1), ('Donalbaine.', 1), ('Donal.', 2), ('Amisse?', 1), ('Are,', 4), (\"Know'T:\", 1), ('Head,', 3), ('Fountaine', 1), ('Stopt,', 1), ('Source', 1), ('Stopt', 1), (\"Father'S\", 1), ('Oh,', 3), ('Whom?', 1), (\"Seem'D,\", 1), (\"Don'T:\", 1), (\"Badg'D\", 1), (\"Vnwip'D,\", 1), ('Found', 3), ('Pillowes:', 1), (\"Star'D,\", 1), ('Distracted,', 1), ('Mans', 3), ('O,', 4), ('Repent', 1), ('Furie,', 1), ('Kill', 3), ('Wise,', 2), (\"Amaz'D,\", 1), (\"Temp'Rate,\", 1), ('Furious,', 1), ('Loyall,', 2), ('Neutrall,', 1), ('Moment?', 1), ('Expedition', 1), ('Violent', 4), ('Out-Run', 1), ('Pawser,', 1), ('Reason.', 1), ('Siluer', 1), ('Skinne,', 1), (\"Lac'D\", 1), (\"Gash'D\", 1), ('Stabs,', 1), (\"Look'D\", 3), ('Breach', 1), ('Ruines', 1), ('Wastfull', 1), ('Entrance:', 1), ('Murtherers,', 1), (\"Steep'D\", 1), ('Colours', 1), ('Trade;', 1), ('Vnmannerly', 1), (\"Breech'D\", 1), ('Gore:', 1), ('Refraine,', 1), ('Loue;', 2), ('Heart,', 3), ('Courage,', 2), (\"Make'S\", 1), ('Knowne?', 1), ('Hence,', 2), ('Hoa', 2), ('Lady', 2), ('Tongues,', 2), ('Clayme', 1), ('Argument', 1), ('Ours?', 1), ('Spoken', 3), ('Hid', 1), ('Augure', 1), ('Hole,', 1), ('Rush,', 1), ('Seize', 2), ('Vs?', 3), (\"Brew'D\", 1), ('Sorrow', 4), ('Foot', 1), ('Motion', 1), ('Lady:', 1), ('Frailties', 1), ('Hid,', 1), ('Suffer', 1), ('Exposure;', 1), ('Meet,', 1), ('Piece', 1), ('Worke,', 1), ('Further.', 1), ('Scruples', 1), ('Stand,', 1), ('Thence,', 2), (\"Vndivulg'D\", 1), ('Pretence,', 1), ('Fight', 5), ('Treasonous', 1), ('Mallice', 3), ('Briefely', 1), ('Manly', 1), ('Readinesse,', 1), ('Hall', 1), ('Contented.', 1), ('Malc.', 15), ('Doe?', 1), ('Consort', 1), ('Vnfelt', 1), ('Sorrow,', 3), ('Office', 2), ('Easie.', 1), ('England', 4), ('Don.', 1), ('Ireland,', 2), ('I:', 1), ('Seperated', 1), ('Safer:', 1), ('Mens', 2), ('Smiles;', 1), ('Neere', 5), ('Neerer', 1), ('Murtherous', 1), ('Shaft', 1), ('Shot,', 1), ('Lighted:', 1), ('Safest', 1), ('Way,', 2), ('Auoid', 1), ('Ayme.', 1), ('Horse,', 1), ('Daintie', 1), ('Leaue-Taking,', 1), ('Away:', 1), ('Warrant', 1), ('Theft,', 1), ('Steales', 1), ('Mercie', 1), ('Left.', 1), ('Threescore', 1), ('Volume', 1), ('Houres', 2), ('Dreadfull,', 1), ('Trifled', 1), ('Knowings', 1), ('Ha,', 1), ('Father,', 1), ('Seest', 1), ('Heauens,', 2), ('Troubled', 2), ('Threatens', 1), ('Stage:', 1), (\"Byth'\", 1), ('Darke', 3), ('Strangles', 1), ('Trauailing', 1), ('Lampe:', 1), ('Predominance,', 1), ('Shame,', 1), ('Intombe,', 1), ('Liuing', 1), ('Kisse', 2), ('It?', 1), ('Vnnaturall,', 1), ('Tuesday', 1), ('Last,', 3), ('Faulcon', 1), ('Towring', 1), ('Pride', 1), ('Mowsing', 1), ('Hawkt', 1), ('At,', 2), (\"Kill'D\", 3), ('Duncans', 3), ('Horses,', 2), ('(A', 1), ('Strange,', 1), ('Certaine)', 1), ('Beauteous,', 1), ('Swift,', 3), ('Minions', 1), ('Race,', 1), (\"Turn'D\", 1), ('Stalls,', 1), ('Flong', 1), ('Contending', 1), ('Obedience,', 3), ('Warre', 2), ('Mankinde', 1), ('Said,', 1), ('Eate', 3), ('Amazement', 1), (\"Vpon'T.\", 1), ('Not?', 1), ('Ross.', 2), ('Known', 1), ('Deed?', 1), ('Slaine', 2), ('Alas', 2), ('Pretend?', 1), ('Subborned,', 1), ('Sonnes', 3), ('Stolne', 1), ('Fled,', 1), ('Puts', 1), ('Suspition', 1), ('Still,', 4), ('Thriftlesse', 1), ('Meanes:', 1), ('Like,', 1), ('Soueraignty', 1), ('Already', 3), (\"Nam'D,\", 1), ('Scone', 1), ('Inuested', 1), ('Body?', 1), ('Carried', 1), ('Colmekill,', 1), ('Sacred', 1), ('Store-House', 1), ('Predecessors,', 1), ('Guardian', 1), ('Bones', 2), ('Scone?', 1), ('Cosin,', 1), ('Fife', 1), ('Wel', 2), ('Adieu', 1), ('Robes', 1), ('Sit', 7), ('Easier', 1), ('Farewell,', 1), ('M.', 1), ('Benyson', 1), ('Go', 10), ('Bad,', 1), ('Friends', 5), ('Foes.', 1), ('Omnes', 1), ('Tertius.', 1), ('Now,', 4), ('Weyard', 3), ('Women', 2), (\"Promis'D,\", 1), (\"Playd'St\", 1), ('Fowly', 1), (\"For'T:\", 1), ('Saide', 1), ('Posterity,', 1), ('Roote,', 1), ('Many', 9), ('Kings.', 4), ('Speeches', 1), ('Shine,', 1), ('Verities', 1), ('Good,', 2), ('Oracles', 1), ('Hope.', 2), ('Hush,', 1), ('More.', 2), ('Senit', 1), ('Sounded.', 1), ('Lords,', 2), (\"Heere'S\", 4), ('Forgotten,', 1), ('Bene', 4), ('Gap', 1), ('Feast,', 2), ('All-Thing', 1), ('Vnbecomming', 1), ('Solemne', 1), ('Supper', 2), ('Request', 1), ('Presence', 2), ('Indissoluble', 1), ('Tye', 1), ('Knit', 1), ('Ride', 1), ('Afternoone?', 1), ('I,', 14), ('Lord', 10), (\"Desir'D\", 1), ('Aduice', 1), ('(Which', 1), ('Graue,', 2), ('Prosperous)', 1), ('Councell:', 1), ('Morrow.', 1), ('Ride?', 1), ('Farre,', 2), (\"'Twixt\", 1), ('This,', 6), ('Supper.', 1), ('Horse', 1), ('Better,', 1), ('Borrower', 1), ('Twaine', 1), ('Faile', 1), ('Cozens', 1), (\"Bestow'D\", 1), ('England,', 3), ('Confessing', 1), ('Cruell', 3), ('Parricide,', 1), ('Filling', 1), ('Hearers', 1), ('Inuention.', 1), ('Therewithall,', 1), ('Cause', 4), ('Crauing', 1), ('Ioyntly.', 1), ('Hye', 1), ('Horse:', 1), ('Adieu,', 1), ('Fleance', 1), ('Lord:', 3), (\"Vpon'S\", 2), ('Wish', 3), ('Horses', 3), ('Sure', 2), ('Foot:', 1), ('Commend', 2), ('Backs.', 1), ('Farwell.', 1), ('Seuen', 1), ('Societie', 1), ('Sweeter', 1), ('Alone:', 1), ('Lords.', 5), ('Sirrha,', 1), ('Word', 3), ('Pleasure?', 2), ('Seruant.', 7), ('Pallace', 2), ('Gate', 2), ('Vs.', 1), ('Thus,', 2), ('Nothing,', 3), ('Safely', 1), ('Sticke', 1), ('Royaltie', 1), ('Reignes', 1), (\"Fear'D.\", 1), ('Dares,', 1), ('Dauntlesse', 1), ('Temper', 1), ('Wisdome,', 1), ('Guide', 1), ('Safetie.', 1), ('He,', 2), ('Genius', 1), (\"Rebuk'D,\", 1), ('Mark', 1), ('Anthonies', 1), ('Caesar.', 1), ('Chid', 1), ('First', 9), ('Prophet-Like,', 1), (\"Hayl'D\", 1), ('Line', 2), (\"Plac'D\", 2), ('Fruitlesse', 1), ('Barren', 1), ('Scepter', 1), ('Gripe,', 1), ('Wrencht', 1), ('Vnlineall', 1), ('Sonne', 4), ('Succeeding:', 1), (\"If'T\", 2), (\"Banquo'S\", 5), ('Issue', 4), (\"Fil'D\", 1), ('Gracious', 7), (\"Murther'D,\", 1), ('Rancours', 1), ('Vessell', 1), ('Eternall', 2), ('Iewell', 1), ('Common', 2), ('Enemie', 3), ('Lyst,', 1), ('Champion', 1), ('Vtterance.', 1), ('Seruant,', 1), ('Murtherers.', 3), ('Call.', 1), ('Yesterday', 1), ('Together?', 1), ('Murth.', 3), ('Was,', 1), (\"Consider'D\", 1), ('Speeches:', 1), ('Past,', 1), ('Held', 1), ('Conference,', 1), ('Past', 1), ('Probation', 1), ('Crost:', 1), ('Instruments:', 2), ('Else,', 1), ('Soule,', 2), ('Notion', 1), (\"Craz'D,\", 1), ('1.Murth.', 4), ('Meeting.', 1), ('Patience', 2), ('Predominant,', 1), ('Goe?', 1), (\"Gospell'D,\", 1), ('Issue,', 2), (\"Bow'D\", 1), (\"Begger'D\", 1), ('Yours', 1), ('Euer?', 1), ('Liege', 1), ('Catalogue', 1), ('Hounds,', 1), ('Greyhounds,', 1), ('Mungrels,', 1), ('Spaniels,', 1), ('Curres,', 1), ('Showghes,', 1), ('Water-Rugs,', 1), ('Demy-Wolues', 1), ('Clipt', 1), ('Dogges:', 1), ('Valued', 1), ('File', 2), ('Distinguishes', 1), ('Subtle,', 1), ('House-Keeper,', 1), ('Hunter,', 1), ('According', 2), ('Gift,', 1), ('Bounteous', 1), (\"Clos'D:\", 1), ('Whereby', 1), ('Particular', 1), ('Bill,', 1), ('Writes', 1), ('Alike:', 1), ('Men.', 1), ('Station', 2), ('File,', 1), ('Worst', 3), ('Ranke', 1), ('Manhood,', 1), (\"Say'T,\", 1), ('Bosomes,', 1), ('Off,', 1), ('Grapples', 1), ('Heart;', 1), ('Health', 4), ('Sickly', 2), ('Perfect', 2), ('2.Murth.', 2), ('Vile', 1), ('Blowes', 1), ('Buffets', 1), (\"Incens'D,\", 1), ('Recklesse', 1), ('Spight', 2), ('Another,', 1), ('Disasters,', 1), (\"Tugg'D\", 1), ('Mend', 1), ('Rid', 1), ('True,', 2), ('Distance,', 1), ('Minute', 2), ('Being,', 1), ('Thrusts', 1), (\"Neer'St\", 1), ('Life:', 1), (\"Bare-Fac'D\", 1), ('Power', 6), ('Sweepe', 1), ('Auouch', 1), ('Certaine', 4), ('His,', 1), ('Loues', 3), ('Drop,', 2), ('Wayle', 1), ('Fall,', 1), ('Struck', 1), ('Assistance', 1), ('Masking', 1), ('Sundry', 3), ('Weightie', 1), ('Reasons', 1), ('Shall,', 1), ('Liues-', 1), ('Most,', 1), ('Aduise', 2), ('Selues,', 1), ('Acquaint', 1), ('Spy', 1), ('Moment', 1), (\"On'T,\", 1), (\"For'T\", 1), ('Something', 4), ('Pallace:', 1), ('Alwayes', 1), ('Require', 2), ('Clearenesse;', 1), ('Rubs', 1), ('Botches', 1), ('Worke:', 1), ('Fleans', 5), (',', 1), ('Sonne,', 4), ('Keepes', 4), ('Companie,', 1), ('Absence', 2), ('Materiall', 1), ('Fathers,', 1), ('Embrace', 1), ('Houre:', 1), ('Resolue', 1), ('Selues', 2), ('Apart,', 1), ('Anon', 3), (\"Resolu'D,\", 1), ('Straight:', 1), ('Abide', 2), ('Within,', 1), ('Concluded:', 1), ('Soules', 3), ('Flight,', 2), ('Court?', 1), ('Madame,', 2), ('Returnes', 1), ('Leysure,', 1), ('Few', 1), ('Will.', 2), (\"Nought'S\", 1), ('Spent.', 1), ('Got', 1), ('Content:', 1), ('Safer,', 1), ('Destroy,', 1), ('Destruction', 2), ('Dwell', 1), ('Ioy.', 1), ('Alone?', 1), ('Sorryest', 1), ('Fancies', 2), ('Companions', 1), ('Making,', 1), ('Vsing', 1), ('On:', 4), ('Remedie', 1), ('Regard:', 1), (\"Scorch'D\", 1), ('Snake,', 2), ('It:', 2), (\"Shee'Le\", 1), ('Close,', 1), ('Whilest', 1), ('Remaines', 2), ('Danger', 2), ('Tooth.', 1), ('Frame', 1), ('Dis-Ioynt,', 1), ('Worlds', 1), ('Suffer,', 2), ('Meale', 1), ('Affliction', 1), ('Dreames,', 1), ('Nightly:', 1), ('Better', 7), ('We,', 1), ('Gayne', 2), ('Torture', 1), ('Minde', 5), ('Restlesse', 1), ('Extasie.', 1), ('Graue:', 1), ('Lifes', 1), ('Fitfull', 1), ('Feuer,', 1), ('Sleepes', 1), ('Worst:', 1), ('Poyson,', 1), ('Domestique,', 1), ('Forraine', 1), ('Leuie,', 1), ('Touch', 1), ('Sleeke', 1), ('Rugged', 2), ('Lookes,', 1), ('Bright', 2), ('Iouiall', 1), ('Among', 1), ('Guests', 1), ('Apply', 1), ('Eminence,', 1), ('Vnsafe', 1), ('While,', 1), ('Laue', 1), ('Flattering', 1), ('Streames,', 1), ('Vizards', 1), ('Hearts,', 1), ('Disguising', 1), ('Scorpions', 1), ('Wife:', 2), (\"Know'St,\", 1), (\"Coppie'S\", 1), ('Eterne', 1), ('Assaileable,', 1), ('Iocund:', 1), ('Bat', 1), ('Flowne', 1), (\"Cloyster'D\", 1), ('Shard-Borne', 1), ('Beetle,', 1), ('Drowsie', 1), ('Hums,', 1), ('Rung', 1), ('Yawning', 1), ('Peale,', 1), ('Dreadfull', 1), ('Note', 4), ('Done?', 2), ('Knowledge,', 1), ('Chuck,', 1), ('Applaud', 3), ('Seeling', 1), ('Skarfe', 1), ('Pittifull', 2), ('Bloodie', 1), ('Inuisible', 1), ('Cancell', 1), ('Teare', 1), ('Pieces', 1), ('Bond,', 1), ('Pale.', 1), ('Thickens,', 1), ('Crow', 1), ('Rookie', 1), ('Wood:', 1), ('Begin', 2), ('Droope,', 1), ('Drowse,', 1), ('Agents', 1), (\"Prey'S\", 1), ('Rowse.', 1), (\"Maruell'St\", 1), ('Begun,', 1), ('Ill:', 1), ('Ioyne', 1), ('Needes', 1), ('Mistrust,', 1), ('Since', 5), ('Deliuers', 1), ('Offices,', 1), ('Direction', 1), ('Iust', 2), ('West', 1), ('Glimmers', 1), ('Streakes', 1), ('Day.', 2), ('Spurres', 1), ('Lated', 1), ('Traueller', 1), ('Apace,', 1), ('Inne,', 1), ('Approches', 1), ('Subiect', 1), ('Watch', 2), ('There,', 1), ('Hee:', 1), ('Rest,', 1), ('Expectation,', 1), ('Alreadie', 1), ('Court', 2), ('Mile:', 1), ('Vsually,', 1), ('Walke.', 1), ('Fleans,', 2), ('Light,', 1), (\"Too'T\", 2), ('Rayne', 1), ('Trecherie!', 1), ('Flye', 4), ('Flye,', 4), (\"May'St\", 3), ('Reuenge.', 1), ('Slaue!', 1), ('Light?', 2), ('Way?', 1), ('Fled', 5), ('Affaire', 1), ('Done.', 1), ('Scaena', 4), (\"Prepar'D.\", 1), ('Degrees,', 1), ('Hearty', 1), ('Maiesty', 3), ('Mingle', 2), ('Society,', 1), ('Humble', 1), ('Host:', 1), ('Friends,', 3), ('Speakes,', 1), ('Welcome.', 1), ('Murtherer.', 1), ('Encounter', 1), ('Harts', 1), ('Thanks', 2), ('Euen:', 1), (\"Mid'St,\", 1), ('Large', 2), ('Mirth,', 2), (\"Wee'L\", 7), ('Measure', 1), ('Table', 1), ('Round.', 1), ('Mur.', 7), ('Without,', 1), (\"Dispatch'D?\", 1), ('Cut,', 1), ('Cut-Throats,', 1), ('Fleans:', 1), (\"Did'St\", 1), ('Non-Pareill', 1), (\"Scap'D\", 1), ('Fit', 4), ('Againe:', 3), ('Perfect;', 2), ('Whole', 4), ('Marble,', 1), ('Founded', 1), ('Rocke,', 1), ('Generall,', 1), ('Casing', 1), (\"Cabin'D,\", 1), (\"Crib'D,\", 1), (\"Confin'D,\", 1), ('Bound', 1), ('Sawcy', 1), ('Doubts,', 1), ('Feares.', 1), ('Safe?', 1), ('Ditch', 1), ('Bides,', 1), ('Twenty', 3), ('Trenched', 1), ('Head;', 1), ('That:', 3), ('Growne', 1), ('Lyes,', 1), ('Worme', 1), ('Venom', 2), ('Teeth', 1), ('Present.', 1), ('Againe.', 3), ('Murderer.', 1), ('Cheere,', 1), ('Sold', 1), ('Often', 4), (\"Vouch'D,\", 1), ('Making:', 1), ('Giuen,', 2), ('Feede', 1), ('Home:', 1), ('Sawce', 2), ('Meate', 1), ('Ceremony,', 1), ('Bare', 1), ('Ghost', 1), ('Sits', 2), ('Place.', 1), ('Sweet', 4), ('Remembrancer:', 1), ('Digestion', 1), ('Waite', 1), ('Appetite,', 1), (\"May'T\", 1), ('Countries', 3), (\"Roof'D,\", 1), (\"Grac'D\", 1), ('Person', 2), ('Present:', 1), ('Challenge', 1), ('Vnkindnesse,', 1), ('Pitty', 1), ('Mischance', 1), ('(Sir)', 1), ('Layes', 1), ('Blame', 2), ('Promise.', 1), (\"Pleas'T\", 1), ('Company?', 1), (\"Table'S\", 1), (\"Reseru'D\", 1), ('Where?', 1), ('Lord.', 5), ('Highnesse?', 1), ('This?', 3), ('Lord?', 2), ('Canst', 2), ('Goary', 1), ('Lockes', 1), ('Gentlemen', 1), ('Rise,', 2), ('Friends:', 1), ('Youth.', 1), ('Momentary,', 1), ('Offend', 1), ('Extend', 1), ('Passion,', 1), ('Feed,', 1), ('Regard', 1), ('Man?', 1), ('Appall', 1), ('Diuell', 4), ('Proper', 1), ('Stuffe:', 1), ('Painting', 1), ('Ayre-Drawne-Dagger', 1), ('Led', 2), ('Duncan.', 1), ('Flawes', 1), ('Starts', 1), ('(Impostors', 1), ('Feare)', 1), ('Story,', 1), ('Winters', 1), ('Fire', 4), (\"Authoriz'D\", 1), ('Grandam:', 1), ('Faces?', 2), ('Stoole', 1), ('Behold,', 1), ('Loe,', 1), ('Nod,', 1), ('Charnell', 1), ('Houses,', 1), ('Send', 5), ('Bury,', 1), ('Backe;', 1), ('Monuments', 1), ('Mawes', 1), ('Kytes', 1), ('What?', 2), ('Quite', 1), (\"Vnmann'D\", 1), ('Folly', 1), ('Fie', 1), ('Shed', 1), ('Olden', 1), ('Statute', 1), (\"Purg'D\", 1), ('Weale:', 1), ('Murthers', 3), (\"Perform'D\", 1), ('Eare.', 1), ('Bene,', 1), ('Dye,', 1), ('End:', 1), ('Crownes,', 1), ('Push', 2), ('Stooles.', 1), ('Lacke', 3), ('Forget:', 1), ('Muse', 1), ('Infirmity,', 1), ('Full:', 1), ('Ioy', 1), ('Table,', 1), ('Deere', 3), ('Misse:', 1), ('Heere:', 2), ('Thirst,', 1), ('Duties,', 2), ('Pledge', 1), ('Auant,', 1), ('Quit', 1), ('Marrowlesse,', 1), ('Cold:', 1), ('Speculation', 1), ('Dost', 2), ('Glare', 1), ('Peeres', 1), ('Custome:', 1), ('Spoyles', 1), ('Pleasure', 1), ('Dare,', 1), ('Dare:', 1), ('Approach', 3), ('Russian', 1), ('Beare,', 2), (\"Arm'D\", 1), ('Rhinoceros,', 1), ('Hircan', 1), ('Tiger,', 1), ('Shape', 1), ('Firme', 2), ('Nerues', 1), ('Tremble.', 1), ('Aliue', 3), ('Desart', 1), ('Trembling', 1), ('Inhabit', 1), ('Protest', 2), ('Mee', 2), ('Baby', 1), ('Girle.', 1), ('Shadow,', 2), ('Vnreall', 1), (\"Mock'Ry\", 1), ('Hence.', 2), (\"Displac'D\", 1), ('Meeting,', 1), (\"Admir'D\", 1), ('Disorder', 1), ('Be,', 3), ('Ouercome', 1), ('Summers', 1), ('Clowd,', 1), ('Speciall', 1), ('Wonder?', 1), ('Disposition', 1), ('Behold', 2), ('Sights,', 2), ('Naturall', 2), ('Rubie', 1), ('Cheekes,', 1), (\"Blanch'D\", 1), ('Growes', 3), ('Worse', 3), ('Enrages', 1), ('Once,', 2), ('Goodnight.', 1), ('Order', 2), ('Len.', 5), ('Goodnight', 1), ('Say:', 1), ('Blood:', 1), ('Moue,', 1), ('Trees', 2), ('Augures,', 1), ('Vnderstood', 1), ('Relations,', 1), ('Maggot', 1), ('Pyes,', 1), ('Choughes,', 1), ('Rookes', 1), ('Brought', 2), (\"Secret'St\", 1), ('Blood.', 1), ('Night?', 1), ('Oddes', 1), ('Morning,', 1), (\"Say'St\", 1), ('Macduff', 2), ('Denies', 1), ('Bidding', 1), ('Sir?', 1), ('Way:', 1), ('Send:', 1), ('House', 1), ('Feed.', 1), ('(And', 1), ('Betimes', 2), ('Will)', 1), ('Sisters.', 1), ('Bent', 1), ('Meanes,', 1), ('Worst,', 1), ('Causes', 2), ('Stept', 1), ('Wade', 1), ('Returning', 1), ('Tedious', 1), ('Ore:', 1), ('Acted,', 1), ('Scand', 1), ('Season', 1), ('Natures,', 1), ('Self-Abuse', 1), ('Initiate', 1), ('Wants', 2), ('Vse:', 1), ('Yong', 3), ('Indeed.', 1), ('Witches,', 1), ('Hecat.', 1), ('Hecat,', 2), ('Angerly?', 1), ('Hec.', 2), ('(Beldams)', 1), ('Are?', 1), ('Sawcy,', 1), ('Ouer-Bold,', 1), ('Trade,', 1), ('Trafficke', 1), ('Riddles,', 1), ('Affaires', 1), ('Death;', 1), ('Mistris', 1), ('Charmes,', 2), ('Close', 2), ('Contriuer', 1), ('Harmes,', 1), ('Glory', 1), ('Art?', 1), ('Worse,', 1), ('Wayward', 1), ('Spightfull,', 1), ('Wrathfull,', 1), ('Others', 2), ('Do)', 1), ('Ends,', 1), ('Amends', 1), ('Now:', 1), ('Gon,', 1), ('Pit', 1), ('Acheron', 1), ('Meete', 1), ('Morning:', 1), ('Destinie.', 1), ('Vessels,', 1), ('Spels', 1), ('Prouide,', 1), ('Beside;', 1), ('Dismall,', 1), ('End.', 1), ('Noone.', 1), ('Corner', 1), ('Hangs', 1), (\"Vap'Rous\", 1), ('Profound,', 1), ('Ground;', 1), (\"Distill'D\", 1), ('Magicke', 1), ('Slights,', 1), ('Raise', 1), ('Artificiall', 1), ('Strength', 2), ('Illusion,', 1), ('Draw', 2), ('Confusion.', 1), ('Spurne', 1), ('Fate,', 1), ('Scorne', 2), ('Hopes', 3), (\"'Boue\", 1), ('Wisedome,', 3), ('Security', 1), ('Mortals', 1), ('Cheefest', 1), ('Enemie.', 1), ('Musicke,', 1), ('Song.', 2), (\"Call'D:\", 1), ('Spirit', 2), ('Foggy', 1), ('Cloud,', 1), ('Stayes', 1), ('Sing', 2), ('&C.', 2), ('1', 11), ('Hast,', 1), (\"Shee'L\", 1), ('Backe', 1), ('Speeches,', 1), ('Hit', 1), ('Interpret', 1), ('Farther:', 1), ('Strangely', 2), ('Borne.', 2), ('Pittied', 1), ('Macbeth:', 2), ('Marry', 1), ('Dead:', 2), ('Right', 2), (\"Walk'D\", 1), (\"(If'T\", 1), ('You)', 1), (\"Kill'D,\", 1), ('Fled:', 1), ('Late.', 1), ('Want', 1), ('Monstrous', 1), ('Donalbane', 2), ('Father?', 3), ('Fact,', 1), ('Greeue', 2), ('Macbeth?', 1), ('Straight', 1), ('Pious', 2), ('Rage,', 1), ('Delinquents', 1), ('Teare,', 1), ('Slaues', 1), ('Thralles', 1), ('Sleepe?', 1), ('Nobly', 1), ('Wisely', 1), (\"'Twould\", 1), (\"Anger'D\", 1), (\"Deny'T.\", 1), ('Thinke,', 2), ('Key,', 1), ('(As,', 1), (\"And'T\", 1), ('Not)', 1), ('Father:', 1), ('Fleans.', 1), ('Peace;', 1), ('Broad', 1), ('Words,', 2), (\"Fayl'D\", 1), ('Tyrants', 6), ('Macduffe', 4), ('Disgrace.', 1), ('Bestowes', 1), ('Himselfe?', 1), ('(From', 1), ('Tyrant', 6), ('Holds', 1), ('Due', 3), ('Birth)', 1), ('Court,', 1), (\"Receyu'D\", 1), ('Edward,', 1), ('Maleuolence', 1), ('Respect.', 1), ('Holy', 3), ('Ayd', 1), ('Northumberland,', 1), ('Warlike', 3), ('Seyward,', 6), ('(With', 1), ('Aboue)', 1), ('Ratifie', 1), ('Worke)', 1), ('Tables', 1), ('Meate,', 1), ('Nights:', 1), ('Feasts,', 1), ('Banquets', 1), ('Kniues;', 1), ('Faithfull', 1), ('Homage,', 1), ('Honors,', 1), ('Pine', 1), ('Now.', 3), ('Exasperate', 1), ('Prepares', 1), ('Attempt', 1), ('Macduffe?', 1), ('Did:', 1), ('Clowdy', 1), ('Messenger', 2), ('Turnes', 1), ('Backe,', 2), ('Hums;', 1), (\"You'L\", 2), ('Rue', 1), ('Clogges', 1), ('Answer', 5), ('Caution,', 2), (\"T'\", 2), ('Distance', 1), ('Wisedome', 3), ('Prouide.', 1), ('Angell', 2), ('Vnfold', 1), ('Swift', 1), ('Blessing', 2), ('Suffering', 1), ('Country,', 2), (\"Accurs'D\", 1), ('Prayers', 1), ('Quartus.', 1), ('Brinded', 1), (\"Mew'D\", 1), ('2', 8), ('Thrice,', 1), ('Hedge-Pigge', 1), (\"Whin'D\", 1), ('3', 6), ('Harpier', 1), ('Cries,', 1), ('Round', 2), ('Caldron', 1), ('Go:', 1), ('Poysond', 1), ('Entrailes', 1), ('Toad,', 1), ('Stone,', 1), ('Thirty', 1), ('One:', 2), ('Sweltred', 1), ('Sleeping', 1), ('Got,', 1), ('Boyle', 3), ('Charmed', 2), ('Pot', 1), ('Toile', 1), ('Trouble;', 1), ('Burne,', 3), ('Cauldron', 5), ('Bubble', 4), ('Fillet', 1), ('Fenny', 1), ('Bake:', 1), ('Newt,', 1), ('Toe', 1), ('Frogge,', 1), ('Wooll', 1), ('Bat,', 1), ('Dogge:', 1), ('Adders', 1), ('Forke,', 1), ('Blinde-Wormes', 1), ('Sting,', 1), ('Lizards', 1), ('Legge,', 1), ('Howlets', 1), ('Wing:', 1), ('Charme', 3), ('Powrefull', 1), ('Hell-Broth,', 1), ('Toyle', 2), ('Scale', 1), ('Dragon,', 1), ('Tooth', 1), ('Mummey,', 1), ('Maw,', 1), ('Gulfe', 1), (\"Rauin'D\", 1), ('Salt', 1), ('Sharke:', 1), ('Roote', 2), ('Hemlocke,', 1), (\"Digg'D\", 1), ('Darke:', 1), ('Liuer', 1), ('Blaspheming', 1), ('Iew,', 1), ('Gall', 1), ('Goate,', 1), ('Slippes', 1), ('Yew,', 1), (\"Sliuer'D\", 1), ('Moones', 1), ('Ecclipse:', 1), ('Nose', 1), ('Turke,', 1), ('Tartars', 1), ('Birth-Strangled', 1), ('Babe,', 1), (\"Ditch-Deliuer'D\", 1), ('Drab,', 1), ('Grewell', 1), ('Thicke,', 1), ('Slab.', 1), ('Adde', 2), ('Thereto', 1), ('Tigers', 1), ('Chawdron,', 1), ('Cawdron', 1), ('Coole', 1), ('Baboones', 1), ('Share', 1), ('Gaines:', 1), ('Elues', 1), ('Fairies', 1), ('Ring,', 1), ('Inchanting', 1), ('In.', 1), ('Musicke', 1), ('Blacke', 3), ('Pricking', 1), ('Thumbes,', 1), ('Comes:', 2), ('Open', 2), ('Lockes,', 1), ('Knockes.', 1), ('Secret,', 1), ('Black,', 1), ('Midnight', 1), ('Hags?', 1), ('Do?', 1), ('Coniure', 1), ('Professe,', 1), ('(How', 1), ('It)', 1), ('Vntye', 1), ('Windes,', 1), ('Churches:', 1), ('Yesty', 1), ('Waues', 1), ('Confound', 2), ('Swallow', 1), ('Nauigation', 1), ('Vp:', 2), ('Bladed', 1), ('Corne', 1), (\"Lodg'D,\", 1), ('Blown', 1), ('Castles', 3), ('Topple', 1), ('Warders', 1), ('Heads:', 1), ('Pallaces,', 1), ('Pyramids', 1), ('Slope', 1), ('Heads', 1), ('Foundations:', 1), ('Treasure', 1), ('Germaine,', 1), ('Tumble', 1), ('Altogether,', 1), ('Sicken:', 1), ('Aske', 1), ('Demand', 1), (\"Th'Hadst\", 1), ('Mouthes,', 1), ('Masters', 1), (\"'Em:\", 1), (\"'Em\", 3), ('Sowes', 1), ('Farrow:', 1), ('Greaze', 1), ('Sweaten', 1), ('Murderers', 1), ('Gibbet,', 1), ('Flame', 1), ('Low:', 1), ('Deaftly', 1), ('Show.', 1), ('Apparation,', 2), ('Armed', 1), ('Head.', 2), ('Vnknowne', 2), ('Knowes', 6), ('Thought:', 1), ('Speech,', 1), ('Nought', 1), ('Appar.', 4), ('Beware', 2), ('Macduffe,', 6), ('Fife:', 1), ('Dismisse', 1), ('Enough.', 2), ('Descends.', 2), (\"Harp'D\", 1), ('Aright.', 1), ('Commanded:', 1), ('Potent', 1), ('First.', 1), ('Apparition,', 1), ('Childe.', 1), ('Eares,', 1), (\"Il'D\", 1), ('Bloody,', 2), ('Bold,', 1), ('Resolute:', 1), ('Woman', 6), ('Harme', 2), ('Macduffe:', 1), ('Thee?', 1), ('Assurance:', 1), ('Sure,', 2), ('Bond', 1), ('Fate:', 1), ('Pale-Hearted', 1), ('Lies;', 1), ('Childe', 2), ('Crowned,', 1), ('Tree', 3), ('Rises', 1), ('Weares', 1), ('Baby-Brow,', 1), ('Top', 2), ('Soueraignty?', 1), ('Listen,', 1), ('Lyon', 1), ('Metled,', 1), ('Proud,', 1), ('Care:', 1), ('Chafes,', 1), ('Frets,', 1), ('Conspirers', 1), ('Are:', 2), (\"Vanquish'D\", 1), ('Vntill', 1), ('Byrnam', 1), ('Wood,', 1), ('Dunsmane', 1), ('Hill', 2), ('Descend.', 1), ('Bee:', 1), ('Impresse', 1), ('Forrest,', 1), ('Earth-Bound', 1), ('Root?', 1), ('Boadments,', 1), ('Good:', 1), ('Wood', 9), ('Byrnan', 2), ('Lease', 1), ('Custome.', 1), ('Hart', 2), ('Throbs', 1), ('Much:', 1), ('Reigne', 2), ('Kingdome?', 1), ('Satisfied.', 1), ('Deny', 1), ('Curse', 1), ('Sinkes', 2), ('Caldron?', 1), ('Noise', 2), ('Hoboyes', 1), ('Eyes,', 2), ('Hart,', 2), ('Shadowes,', 1), ('Depart.', 1), ('Eight', 1), ('Glasse', 1), ('Down:', 1), ('Seare', 1), ('Eye-Bals.', 1), ('Haire', 2), ('Gold-Bound-Brow,', 1), ('First:', 1), ('Third,', 1), ('Former.', 1), ('Filthy', 1), ('Hagges,', 1), ('-', 1), ('Fourth?', 1), ('Start', 2), ('Eyes!', 1), ('Stretch', 1), (\"To'Th'\", 1), ('Cracke', 1), ('Doome?', 1), ('Yet?', 1), ('Seauenth?', 1), ('Eighth', 1), ('Appeares,', 1), ('Glasse,', 1), ('Shewes', 1), ('Two-Fold', 1), ('Balles,', 1), ('Trebble', 1), ('Scepters', 1), ('Carry.', 1), ('Sight:', 1), (\"Blood-Bolter'D\", 1), ('Smiles', 1), ('Points', 1), ('His.', 1), ('Amazedly?', 1), ('Cheere', 3), ('Delights.', 1), ('Sound,', 1), ('Antique', 1), ('Round:', 1), ('Kindly', 1), ('Pay.', 1), ('Musicke.', 1), ('Dance,', 1), ('They?', 1), ('Gone?', 1), ('Pernitious', 1), ('Aye', 1), ('Accursed', 2), ('Kalender.', 1), ('There.', 1), ('Sisters?', 1), ('Infected', 2), ('Whereon', 1), ('Ride,', 1), (\"Damn'D\", 3), ('Gallopping', 1), ('Horse.', 1), ('By?', 1), ('Word:', 2), ('England?', 1), (\"Anticipat'St\", 1), ('Dread', 1), ('Exploits:', 1), ('Flighty', 1), (\"O'Re-Tooke\", 1), ('Vnlesse', 1), ('Moment,', 1), ('Firstlings', 2), ('Crown', 1), ('Acts:', 1), ('Thoght', 1), ('Surprize.', 1), ('Fife;', 1), ('Edge', 2), ('Sword', 5), ('Babes,', 2), ('Vnfortunate', 1), ('Trace', 1), ('Line.', 1), ('Boasting', 1), ('Foole,', 3), ('Do,', 3), ('Coole,', 1), ('Sights.', 1), ('Gentlemen?', 1), ('Are.', 1), ('Macduffes', 1), ('Son,', 1), ('Wife.', 19), ('Fly', 2), ('Land?', 1), ('Madam', 1), ('Flight', 2), ('Madnesse:', 1), ('Actions', 1), ('Traitors', 2), ('Wisedom?', 1), ('Mansion,', 1), ('Titles,', 1), ('Flye?', 2), ('Touch.', 1), ('Wren', 1), ('(The', 1), ('Diminitiue', 1), ('Birds)', 1), ('Fight,', 5), ('Ones', 2), ('Nest,', 1), ('Owle:', 1), ('Runnes', 1), ('Deerest', 1), ('Cooz,', 1), ('Husband,', 1), ('Noble,', 1), ('Iudicious,', 1), ('Fits', 1), ('Season.', 1), ('Times,', 1), ('Rumor', 1), ('Floate', 1), ('Moue.', 1), ('Long', 2), ('Cease,', 1), ('Climbe', 1), ('Vpward,', 1), ('Pretty', 3), ('Cosine,', 1), (\"Father'D\", 1), ('Father-Lesse', 1), ('Longer', 1), ('Disgrace,', 1), ('Discomfort.', 1), ('Once.', 1), ('Sirra,', 1), ('Fathers', 1), ('Liue?', 1), ('Son.', 14), ('Birds', 2), ('Mother', 1), ('Wormes,', 1), ('Flyes?', 1), ('Meane,', 1), ('Bird,', 1), (\"Thou'Dst\", 1), ('Net,', 1), ('Lime,', 1), ('Pitfall,', 1), ('Gin', 1), ('Mother?', 2), ('Saying', 1), ('Wilt', 2), ('Nay', 1), ('Buy', 1), ('Market', 1), ('Sell', 1), (\"Speak'St\", 2), ('Withall', 1), ('Wit,', 1), (\"I'Faith\", 1), ('Wit', 1), ('Traitor,', 2), ('Traitor?', 1), ('Sweares,', 1), ('Traitors,', 1), (\"Hang'D,\", 1), ('Swear', 1), ('Lye?', 1), ('Them?', 2), ('Why,', 1), ('Liars', 1), ('Swearers', 2), ('Fools:', 1), ('Lyars', 1), ('Enow,', 1), ('Beate', 2), ('Monkie:', 1), (\"Youl'D\", 1), ('Weepe', 2), ('Signe,', 1), ('Quickely', 1), ('Pratler,', 1), (\"Talk'St?\", 1), ('Mes.', 4), ('Dame:', 1), ('Known,', 1), ('Doubt', 3), ('Neerely.', 1), ('Homely', 1), ('Aduice,', 1), ('Fright', 1), ('Thus.', 1), ('Thinkes', 1), ('Sauage:', 1), ('Cruelty,', 1), ('Nie', 1), ('Person.', 1), ('Preserue', 1), ('Longer.', 1), ('Harme.', 1), ('Earthly', 1), ('World:', 1), ('Laudable,', 1), ('Accounted', 1), ('Dangerous', 1), ('Folly.', 1), ('(Alas)', 1), ('Womanly', 1), ('Harme?', 1), ('Vnsanctified,', 1), (\"He'S\", 2), ('Traitor', 1), (\"Ly'St\", 1), (\"Shagge-Ear'D\", 1), ('Villaine', 3), ('Egge?', 1), ('Fry', 1), ('Treachery?', 1), ('Mother,', 2), ('Run', 1), ('Crying', 1), ('Murther.', 1), ('Desolate', 1), ('Shade,', 1), ('Sad', 1), ('Bosomes', 1), ('Empty', 1), ('Fast', 3), ('Bestride', 1), ('Downfall', 1), ('Birthdome:', 1), ('Morne,', 1), ('Widdowes', 1), ('Howle,', 1), ('Orphans', 1), ('Sorowes', 1), ('Resounds', 1), ('Felt', 1), (\"Yell'D\", 1), ('Syllable', 2), ('Dolour', 1), ('Waile;', 1), ('Beleeue;', 1), ('Redresse,', 1), ('Friend:', 1), ('Wil.', 1), ('Spoke,', 1), ('Perchance.', 1), ('Tyrant,', 3), ('Sole', 1), ('Blisters', 1), ('Honest:', 1), (\"Lou'D\", 1), (\"Touch'D\", 1), ('Yet.', 1), ('Yong,', 1), ('Discerne', 1), ('Offer', 2), ('Weake,', 1), ('Lambe', 1), ('Appease', 1), ('Angry', 1), ('Treacherous', 1), ('Is.', 1), ('Vertuous', 1), ('Recoyle', 1), ('Charge.', 1), ('Craue', 1), ('Pardon:', 1), ('Transpose;', 1), ('Angels', 1), ('Brightest', 1), ('Wear', 2), ('Brows', 1), ('Perchance', 1), ('Doubts.', 1), ('Rawnesse', 1), ('Childe?', 1), ('Precious', 2), ('Motiues,', 1), ('Knots', 1), ('Leaue-Taking.', 1), ('Iealousies,', 1), ('Dishonors,', 1), ('Safeties:', 1), ('Rightly', 1), ('Iust,', 1), ('Bleed', 1), ('Tyrrany,', 1), ('Basis', 1), ('Goodnesse', 2), ('Check', 1), ('Y', 2), ('Wrongs,', 1), ('Title,', 1), (\"Affear'D.\", 1), ('Far', 1), (\"Think'St,\", 1), ('Space', 1), ('Graspe,', 1), ('Rich', 1), ('East', 1), ('Boot', 1), ('Offended:', 1), ('Country', 3), ('Beneath', 1), ('Yoake,', 1), ('Weepes,', 1), ('Bleeds,', 1), ('Gash', 1), ('Added', 1), ('Wounds.', 1), ('Vplifted', 1), ('Right:', 1), ('Goodly', 1), ('Thousands.', 1), ('Treade', 1), ('Sword;', 1), ('Vices', 1), ('Wayes', 1), ('Succeede', 1), ('Be?', 1), ('Meane:', 1), ('Particulars', 1), ('Vice', 1), ('Grafted,', 1), (\"Open'D,\", 1), ('Pure', 1), ('Snow,', 1), ('Esteeme', 1), ('Lambe,', 1), (\"Compar'D\", 1), ('Confinelesse', 1), ('Harmes', 1), ('Legions', 1), ('Euils,', 1), ('Grant', 1), ('Luxurious,', 1), ('Auaricious,', 1), ('Deceitfull,', 1), ('Sodaine,', 1), ('Malicious,', 1), ('Smacking', 1), ('Name.', 1), ('Bottome,', 1), ('Voluptuousnesse:', 1), ('Wiues,', 1), ('Daughters,', 1), ('Matrons,', 1), ('Maides,', 1), ('Cesterne', 1), ('Lust,', 1), ('Continent', 1), ('Impediments', 1), ('Ore-Beare', 1), ('Oppose', 1), ('Boundlesse', 1), ('Intemperance', 1), ('Tyranny:', 1), ('Vntimely', 2), ('Emptying', 1), ('Yours:', 1), ('Conuey', 1), ('Pleasures', 1), ('Spacious', 1), ('Plenty,', 1), ('Hoodwinke:', 1), ('Willing', 1), ('Dames', 1), ('Vulture', 1), ('Deuoure', 1), ('Dedicate', 1), ('Finding', 1), ('Inclinde', 1), ('Ill-Composd', 1), ('Affection,', 1), ('Stanchlesse', 1), ('Auarice,', 1), ('Cut', 2), ('Nobles', 1), ('Lands,', 1), ('Iewels,', 1), ('House,', 1), ('More-Hauing,', 1), ('Hunger', 1), ('Forge', 1), ('Quarrels', 1), ('Vniust', 1), ('Destroying', 1), ('Wealth', 1), ('Auarice', 1), ('Stickes', 1), ('Deeper:', 1), ('Pernicious', 1), ('Summer-Seeming', 1), ('Lust:', 1), ('Kings:', 1), ('Scotland', 6), ('Foysons,', 1), ('Owne.', 2), ('Portable,', 1), ('None.', 2), ('King-Becoming', 1), ('Graces,', 1), ('Iustice,', 1), ('Verity,', 1), (\"Temp'Rance,\", 1), ('Stablenesse,', 1), ('Bounty,', 1), ('Perseuerance,', 1), ('Mercy,', 1), ('Lowlinesse,', 1), ('Deuotion,', 1), ('Patience,', 1), ('Fortitude,', 1), ('Rellish', 1), ('Abound', 1), ('Diuision', 1), ('Seuerall', 2), ('Crime,', 1), ('Acting', 1), ('Wayes.', 1), ('Nay,', 1), ('Powre,', 1), ('Poure', 2), ('Concord,', 1), ('Vprore', 1), ('Vniuersall', 1), ('Vnity', 1), ('Gouerne,', 1), ('Gouern?', 1), ('Liue.', 1), ('Natio[N]', 1), ('Miserable!', 1), ('Vntitled', 1), ('Sceptred,', 1), ('Wholsome', 1), ('Truest', 1), ('Throne', 1), ('Interdiction', 1), ('Accust,', 1), ('Blaspheme', 1), ('Breed?', 1), ('Sainted-King:', 1), ('Queene', 2), ('Bore', 1), ('Oftner', 1), ('Knees,', 1), ('Feet,', 2), (\"Dy'De\", 3), (\"Liu'D.\", 1), ('Fare', 2), ('Euils', 1), (\"Repeat'St\", 1), (\"Banish'D\", 1), ('Scotland.', 2), ('Brest,', 1), ('Ends', 1), ('Passion', 1), ('Integrity,', 1), ('Soule', 2), (\"Wip'D\", 1), ('Scruples,', 1), (\"Reconcil'D\", 1), ('Truth,', 1), ('Honor.', 1), ('Diuellish', 1), ('Traines,', 1), ('Sought', 1), ('Win', 1), ('Power:', 1), ('Modest', 1), ('Pluckes', 1), ('Ouer-Credulous', 1), ('Hast:', 1), ('Aboue', 2), ('Deale', 1), ('Me;', 1), ('Direction,', 1), ('Vnspeake', 1), ('Detraction.', 1), ('Abiure', 1), ('Taints,', 1), ('Blames', 1), ('Laide', 1), ('Strangers', 2), ('Nature.', 1), ('Woman,', 1), ('Forsworne,', 1), ('Scarsely', 1), ('Coueted', 1), ('Faith,', 1), ('Betray', 1), ('Fellow,', 1), ('Life.', 2), ('Speaking', 1), ('Truly', 2), ('Command:', 1), ('Indeed,', 1), ('Seyward', 2), ('Setting', 2), ('Foorth:', 1), ('Warranted', 1), ('Quarrell.', 1), ('Silent?', 1), ('Welcome,', 1), ('Vnwelcom', 1), ('Reconcile.', 1), ('Doctor.', 2), ('Anon.', 1), ('Doct.', 20), ('Crew', 1), ('Wretched', 2), ('Cure:', 1), ('Malady', 1), ('Conuinces', 1), ('Assay', 1), ('Art.', 2), ('Touch,', 1), ('Sanctity', 1), ('Presently', 1), ('Amend.', 1), ('Doctor', 2), ('Disease', 2), ('Meanes?', 1), ('Tis', 1), ('Euill.', 1), ('Myraculous', 1), ('Worke', 1), ('Remaine', 1), ('Do:', 1), ('Solicites', 1), ('Knowes:', 1), ('Visited', 1), ('Swolne', 1), ('Vlcerous,', 1), ('Dispaire', 2), ('Surgery,', 1), ('Cures,', 1), ('Hanging', 1), ('Stampe', 1), ('Neckes,', 1), ('Succeeding', 1), ('Royalty', 1), ('Healing', 1), ('Benediction.', 1), ('Vertue,', 1), ('Heauenly', 1), ('Guift', 1), ('Prophesie,', 1), ('Blessings', 1), ('Grace.', 1), ('Countryman:', 1), ('Cozen,', 1), ('Hither', 2), ('Remoue', 3), ('Meanes', 2), ('Did?', 1), ('Countrey,', 1), ('Affraid', 3), ('Graue;', 1), ('Smile:', 1), ('Sighes,', 1), ('Groanes,', 1), ('Shrieks', 1), ('Rent', 1), ('Made,', 1), (\"Mark'D:\", 1), ('Moderne', 1), ('Extasie:', 1), ('Deadmans', 1), ('Scarse', 1), ('Expire', 1), ('Flowers', 1), ('Caps,', 1), ('Dying,', 1), ('Sicken', 1), ('Relation;', 1), ('Nice,', 1), ('Griefe?', 1), ('Age,', 1), ('Hisse', 1), ('Speaker,', 1), ('Teemes', 1), ('Wife?', 1), ('Children?', 1), (\"Batter'D\", 1), ('Peace?', 1), ('No,', 1), ('Niggard', 1), ('Speech:', 1), (\"Gos'T?\", 1), ('Transport', 1), ('Tydings', 1), ('Heauily', 1), ('Borne,', 2), ('Ran', 1), ('Rumour', 1), ('Fellowes,', 1), ('Beleefe', 1), ('Witnest', 1), ('Rather,', 1), ('A-Foot.', 1), ('Helpe:', 1), ('Create', 1), ('Soldiours,', 1), ('Doffe', 1), ('Dire', 1), ('Distresses', 1), (\"Bee'T\", 1), ('Thither:', 1), ('Lent', 1), ('Older,', 1), ('Souldier,', 2), ('Christendome', 1), ('Like.', 1), (\"Howl'D\", 1), ('Desert', 1), ('Latch', 1), ('Concerne', 1), ('They,', 1), ('Cause,', 1), ('Fee-Griefe', 1), ('Brest?', 1), ('Shares', 1), ('Maine', 2), ('Part', 2), ('Pertaines', 1), ('Quickly', 2), ('Eares', 1), ('Dispise', 1), ('Possesse', 1), ('Heauiest', 1), ('Humh:', 1), ('Guesse', 1), (\"Surpriz'D:\", 1), ('Babes', 1), ('Sauagely', 1), (\"Slaughter'D:\", 1), ('Relate', 1), ('Manner', 1), (\"Ne'Re\", 2), ('Pull', 2), ('Hat', 1), ('Browes:', 1), ('Words;', 1), ('Griefe', 2), ('Whispers', 1), (\"O'Re-Fraught\", 1), ('Bids', 1), ('Too?', 2), ('Ro.', 1), ('Seruants,', 1), ('Thence?', 1), (\"Kil'D\", 1), ('Comforted.', 1), (\"Med'Cines\", 1), ('Reuenge,', 1), ('Cure', 2), ('Deadly', 1), ('Greefe', 1), ('Children.', 1), ('Ones?', 1), ('All?', 2), ('Hell-Kite!', 1), ('Chickens,', 1), ('Damme', 1), ('Swoope?', 1), ('Dispute', 1), ('Also', 1), ('Man;', 1), ('Part?', 1), ('Sinfull', 1), ('Strooke', 1), ('Naught', 1), ('Am,', 1), ('Demerits,', 1), ('Slaughter', 1), ('Soules:', 1), ('Whetstone', 1), ('Sword,', 2), ('Conuert', 1), ('Anger:', 1), ('Blunt', 1), ('Enrage', 1), ('Braggart', 1), ('Tongue.', 1), ('Short', 1), ('Intermission:', 1), ('Front', 2), ('Front,', 1), ('Fiend', 1), ('Swords', 2), ('Length', 1), ('Scape', 1), ('Forgiue', 2), ('Manly:', 1), ('Leaue.', 1), ('Ripe', 1), ('Shaking,', 1), ('Powres', 1), ('Long,', 1), ('Quintus.', 1), ('Physicke,', 1), ('Wayting', 1), ('Gentlewoman.', 1), (\"Watch'D\", 1), ('Perceiue', 1), ('Report.', 1), ('Shee', 2), (\"Walk'D?\", 1), ('Gent.', 11), ('Field,', 1), ('Night-Gown', 1), ('Vppon', 1), ('Her,', 5), ('Vnlocke', 1), ('Closset,', 1), ('Foorth', 1), ('Paper,', 1), ('Folde', 1), ('Write', 1), (\"Vpon'T,\", 1), ('Read', 1), ('Afterwards', 1), ('Seale', 1), ('Bed;', 1), ('Perturbation', 1), ('Receyue', 1), ('Benefit', 1), ('Sleep,', 2), ('Effects', 1), ('Watching.', 1), ('Slumbry', 1), ('Agitation,', 1), ('Walking,', 1), ('Actuall', 1), ('Performances,', 1), ('(At', 1), ('Time)', 1), ('Say?', 1), ('Neither', 1), ('Confirme', 1), ('Speech.', 1), ('Taper.', 1), ('Lo', 1), ('Guise,', 1), ('Asleepe:', 1), ('Obserue', 1), ('Her:', 2), ('Continually,', 1), ('Sense', 1), ('Rubbes', 1), (\"Accustom'D\", 1), ('Action', 1), ('Washing', 1), ('Continue', 1), ('Quarter', 1), ('Lad.', 3), ('Spot', 1), ('Heark,', 1), ('Speaks,', 1), ('Satisfie', 1), ('Strongly', 2), ('Spot:', 1), ('Say.', 1), ('Two:', 1), (\"Doo'T:\", 1), ('Murky.', 1), ('Fye,', 1), ('Fie,', 1), (\"Affear'D?\", 1), ('Feare?', 1), ('Accompt:', 1), ('Olde', 1), ('Fife,', 1), ('Cleane?', 1), (\"O'That\", 1), (\"O'That:\", 1), ('Marre', 1), ('Starting', 1), ('Smell', 1), ('Still:', 2), ('Perfumes', 1), ('Arabia', 1), ('Sweeten', 1), ('Sigh', 1), ('Sorely', 1), (\"Charg'D\", 2), ('Bosome,', 2), ('Dignity', 1), ('Body', 1), ('Practise:', 1), ('Walkt', 1), ('Dyed', 1), ('Holily', 1), ('Beds', 1), ('Pale:', 1), ('Buried;', 1), (\"On'S\", 1), ('Graue', 1), ('Bed:', 1), ('Gate:', 1), ('Bed?', 1), ('Directly', 1), (\"Whisp'Rings\", 1), ('Abroad:', 1), ('Vnnaturall', 2), ('Breed', 1), ('Troubles:', 1), ('Deafe', 1), ('Pillowes', 1), ('Discharge', 1), ('Secrets:', 1), ('Needs', 1), ('Diuine,', 1), ('Physitian:', 1), ('God,', 1), ('Annoyance,', 1), ('Goodnight,', 1), ('Mated,', 1), (\"Amaz'D\", 1), ('Sight.', 1), ('Colours.', 4), ('Menteth,', 2), ('Cathnes,', 2), ('Soldiers.', 2), ('Ment.', 5), ('Neere,', 1), ('Malcolm,', 2), ('Vnkle', 1), ('Reuenges', 1), ('Burne', 1), ('Bleeding,', 1), ('Grim', 1), ('Alarme', 1), ('Excite', 1), ('Mortified', 1), ('Cath.', 3), ('Brother?', 1), ('Gentry;', 1), ('Seywards', 2), ('Vnruffe', 1), ('Youths,', 1), ('Manhood', 1), ('Dunsinane', 3), ('Fortifies:', 1), ('Mad:', 1), ('Others,', 1), ('Fury,', 1), ('Buckle', 1), (\"Distemper'D\", 1), ('Belt', 1), ('Rule', 1), ('Secret', 1), ('Minutely', 1), ('Reuolts', 1), ('Vpbraid', 1), ('Faith-Breach:', 1), ('Commands,', 1), ('Moue', 2), ('Command,', 1), ('Loue:', 1), ('Giants', 1), ('Robe', 1), ('Dwarfish', 1), ('Theefe', 1), (\"Pester'D\", 1), ('Senses', 1), ('Recoyle,', 1), ('Condemne', 1), ('March', 2), (\"Ow'D:\", 1), (\"Med'Cine\", 1), ('Weale,', 1), ('Purge,', 1), ('Drop', 1), ('Needes,', 1), ('Dew', 1), ('Weeds:', 1), ('Birnan.', 1), ('Marching.', 2), ('Doctor,', 3), ('Reports,', 1), ('All:', 1), ('Byrnane', 3), ('Dunsinane,', 4), ('Taint', 1), ('Feare.', 4), ('Boy', 1), ('Malcolme?', 1), ('Woman?', 2), ('Consequences,', 1), (\"Pronounc'D\", 1), ('Thus:', 1), ('Epicures,', 1), ('Sway', 1), ('By,', 1), ('Sagge', 1), ('Doubt,', 1), ('Damne', 1), ('Blacke,', 1), (\"Cream-Fac'D\", 1), ('Loone:', 1), (\"Got'St\", 1), ('Goose-Looke', 1), ('Ser.', 3), ('Geese', 1), ('Villaine?', 1), ('Souldiers', 2), ('Ouer-Red', 1), (\"Lilly-Liuer'D\", 1), ('Boy.', 1), ('Soldiers,', 1), ('Patch?', 1), ('Linnen', 1), ('Cheekes', 1), ('Counsailers', 1), ('Soldiers', 2), ('Whay-Face?', 1), ('Force,', 1), ('Seyton,', 4), ('Sick', 1), ('Behold:', 1), ('Dis-Eate', 1), ('Falne', 1), ('Seare,', 1), ('Yellow', 1), ('Accompany', 1), ('Old-Age,', 1), ('Troopes', 1), ('Haue:', 1), ('Steed,', 1), ('Curses,', 1), ('Lowd', 1), ('Mouth-Honor,', 1), ('Faine', 1), ('Deny,', 1), ('Seyton?', 1), ('Seyton.', 1), ('Sey.', 13), ('More?', 1), (\"Confirm'D\", 2), ('Reported', 1), ('Bones,', 1), ('Flesh', 1), ('Hackt.', 1), ('Armor', 1), ('Seyt.', 1), ('Needed', 1), ('Moe', 1), ('Skirre', 1), ('Talke', 1), ('Armor:', 1), ('Patient,', 1), ('Doctor?', 1), ('Sicke', 1), ('Thicke-Comming', 1), (\"Can'St\", 1), ('Minister', 2), (\"Diseas'D,\", 1), ('Plucke', 1), ('Memory', 1), ('Rooted', 1), ('Raze', 1), ('Written', 1), ('Troubles', 1), ('Obliuious', 1), ('Antidote', 1), ('Cleanse', 1), ('Stufft', 1), ('Perillous', 1), ('Stuffe', 1), ('Weighes', 1), ('Heart?', 1), ('Therein', 1), ('Patient', 1), ('Physicke', 1), ('Dogs,', 1), ('Armour', 1), ('Staffe:', 1), ('Thanes', 3), ('Dispatch.', 1), (\"Could'St\", 1), ('Disease,', 1), ('Purge', 1), ('Pristine', 1), ('Health,', 1), ('Eccho,', 1), (\"Pull'T\", 1), ('Rubarb,', 1), ('Cyme,', 1), ('Purgatiue', 1), ('Drugge', 1), ('Scowre', 1), ('Hence:', 1), (\"Hear'St\", 1), ('Bane,', 1), ('Birnane', 2), ('Forrest', 1), ('Cleere,', 1), ('Profit', 1), ('Hardly', 1), ('Heere.', 1), ('Cosins,', 1), ('Chambers', 1), ('Seyw.', 1), ('Hew', 1), ('Bough,', 1), (\"Bear'T\", 1), ('Thereby', 1), ('Shadow', 1), ('Numbers', 1), ('Hoast,', 1), ('Discouery', 1), ('Erre', 1), ('Sold.', 1), ('Syw.', 1), ('Learne', 1), ('Confident', 1), ('Indure', 1), (\"Befor'T\", 1), ('Hope:', 1), ('Aduantage', 1), ('Reuolt,', 1), ('Serue', 1), ('Constrained', 1), ('Things,', 1), ('Absent', 1), ('Censures', 1), ('Euent,', 1), ('Industrious', 1), ('Souldiership', 1), ('Approaches,', 1), ('Decision', 1), ('Owe:', 1), ('Speculatiue,', 1), ('Vnsure', 1), ('Relate,', 1), ('Arbitrate,', 1), ('Which,', 1), ('Aduance', 1), ('Warre.', 1), ('Marching', 1), ('Souldiers,', 1), ('Outward', 1), ('Walls,', 1), ('Come:', 1), ('Siedge', 1), ('Scorne:', 1), ('Famine', 2), ('Ague', 1), (\"Forc'D\", 1), ('Ours,', 1), ('Darefull,', 1), ('Beard', 1), ('Beard,', 1), ('Backward', 1), ('Home.', 1), ('Women.', 1), ('Forgot', 1), ('Taste', 1), ('Feares:', 1), (\"Cool'D\", 1), ('Night-Shrieke,', 1), ('Treatise', 1), ('Rowze,', 1), (\"In'T.\", 1), ('Supt', 1), ('Horrors,', 1), ('Direnesse', 1), ('Familiar', 1), ('Slaughterous', 1), ('Cry?', 1), ('Lord)', 1), ('Heereafter;', 1), ('Creepes', 1), ('Petty', 1), ('Pace', 1), ('Recorded', 1), ('Yesterdayes,', 1), ('Lighted', 1), ('Dusty', 1), ('Death.', 2), ('Breefe', 1), ('Candle,', 1), ('Walking', 1), ('Player,', 1), ('Struts', 1), ('Frets', 1), ('Stage,', 1), ('Told', 1), ('Ideot,', 1), ('Fury', 1), ('Signifying', 1), ('Nothing.', 1), (\"Com'St\", 1), ('Story', 1), ('Saw,', 1), (\"Doo'T\", 1), ('Byrnane,', 1), ('Lyar,', 1), ('Slaue', 1), ('Endure', 1), ('Wrath,', 1), ('Mile', 1), ('Comming.', 1), ('Mouing', 1), ('Groue', 1), ('Next', 1), ('Speech', 1), ('Much.', 1), ('Resolution,', 1), ('Equiuocation', 1), ('Fiend,', 1), ('Lies', 1), ('Truth.', 1), ('Dunsinane.', 1), ('Auouches,', 1), ('Appeare,', 1), ('Flying', 1), ('Tarrying', 1), ('Here.', 1), (\"'Ginne\", 1), ('A-Weary', 1), ('Sun,', 1), ('Vndon.', 1), ('Bell,', 1), ('Winde,', 1), ('Dye', 2), ('Harnesse', 1), ('Backe.', 1), ('Drumme', 2), ('Army,', 1), ('Boughes.', 1), ('Leauy', 1), ('Skreenes', 1), ('(Worthy', 1), ('Vnkle)', 1), ('Cosin', 1), ('Leade', 1), ('Battell.', 1), ('Well:', 1), ('Beaten,', 1), ('Trumpets', 1), ('Speak,', 1), ('Clamorous', 1), ('Harbingers', 1), ('Alarums', 1), ('Continued.', 1), ('Tied', 1), ('Stake,', 1), ('Beare-Like', 1), ('Course.', 1), ('Seyward.', 2), ('Y.Sey.', 4), (\"Thou'Lt\", 1), (\"Call'St\", 1), ('Hoter', 1), (\"Name'S\", 1), ('Hatefull', 1), ('Eare', 1), ('Fearefull', 1), ('Lyest', 1), ('Abhorred', 1), ('Proue', 1), (\"Speak'St.\", 1), ('Slaine.', 2), ('Woman;', 1), ('Smile', 1), ('Weapons', 1), ('Scorne,', 1), (\"Brandish'D\", 1), ('Alarums.', 3), ('Is:', 1), ('Beest', 1), ('Slaine,', 1), ('Stroake', 1), ('Childrens', 1), ('Ghosts', 1), ('Haunt', 1), ('Kernes,', 1), ('Armes', 1), (\"Hyr'D\", 1), ('Staues;', 1), ('Either', 1), ('Vnbattered', 1), ('Sheath', 1), ('Vndeeded.', 1), (\"Should'St\", 1), ('Clatter,', 1), ('Bruited.', 1), ('Begge', 1), ('Exit.', 1), ('Gently', 1), ('Rendred:', 1), ('Brauely', 1), ('Warre,', 1), ('Professes', 1), ('Yours,', 1), ('Foes', 1), ('Beside', 1), ('Castle.', 1), ('Roman', 1), ('Sword?', 1), ('Liues,', 1), ('Hell-Hound,', 1), ('Auoyded', 1), ('Voice', 1), ('Bloodier', 1), ('Tearmes', 1), ('Out.', 1), ('Fight:', 1), ('Loosest', 1), ('Intrenchant', 1), ('Impresse,', 1), ('Bleed:', 1), ('Blade', 1), ('Vulnerable', 1), ('Crests,', 1), ('Charme,', 1), (\"Seru'D\", 1), ('Mothers', 1), ('Womb', 1), ('Ript', 1), ('Tels', 1), ('So;', 1), (\"Cow'D\", 1), ('Iugling', 1), ('Fiends', 1), (\"Beleeu'D,\", 1), ('Palter', 1), ('Sence,', 1), ('Promise', 1), ('Coward,', 1), ('Shew,', 1), ('Gaze', 1), ('Rarer', 1), ('Monsters', 1), ('Pole,', 1), ('Vnder-Writ,', 1), ('Ground', 1), ('Malcolmes', 1), ('Baited', 1), ('Rabbles', 1), ('Curse.', 1), (\"Oppos'D,\", 1), ('Try', 1), ('Last.', 1), ('Body,', 1), ('Shield:', 1), ('Cries', 1), ('Fighting.', 1), ('Fighting,', 1), ('Retreat,', 1), ('Colours,', 1), ('Misse,', 1), (\"Arriu'D\", 1), ('Cheapely', 1), ('Missing,', 1), ('Son', 1), ('Paid', 2), ('Debt,', 1), ('Prowesse', 1), ('Vnshrinking', 1), ('Fought,', 1), ('Dead?', 1), ('Field:', 1), (\"Measur'D\", 1), ('Worth,', 1), ('Hurts', 1), ('Before?', 1), ('Soldier', 1), ('He:', 1), ('Haires,', 1), ('Fairer', 1), ('Death:', 1), ('Knell', 1), (\"Knoll'D\", 1), ('Parted', 1), ('Score,', 1), ('Newer', 1), ('Comfort.', 1), ('Vsurpers', 1), ('Head:', 1), ('Free:', 1), ('Compast', 1), ('Pearle,', 1), ('Salutation', 1), ('Minds:', 1), ('Voyces', 1), ('Alowd', 1), ('Mine.', 1), ('Expence', 1), ('Reckon', 1), ('Loues,', 1), ('Kinsmen', 1), ('Henceforth', 1), ('Earles,', 1), (\"Nam'D:\", 1), ('Planted', 1), ('Newly', 1), ('Calling', 1), (\"Exil'D\", 1), ('Abroad,', 1), ('Snares', 1), ('Watchfull', 1), ('Tyranny,', 1), ('Producing', 1), ('Ministers', 1), ('Butcher,', 1), ('Fiend-Like', 1), ('Queene;', 1), ('Thought)', 1), (\"Call'S\", 1), ('Measure,', 1), ('Place:', 1), ('Inuite,', 1), ('Scone.', 1), ('Exeunt', 1), ('Omnes.', 1), ('Finis.', 1)]\n"
     ]
    },
    {
     "data": {
      "text/plain": [
       "[('The', 646),\n",
       " ('And', 544),\n",
       " ('To', 383),\n",
       " ('Of', 337),\n",
       " ('I', 314),\n",
       " ('A', 238),\n",
       " ('That', 220),\n",
       " ('My', 201),\n",
       " ('In', 195),\n",
       " ('Is', 175),\n",
       " ('You', 166),\n",
       " ('With', 152),\n",
       " ('Not', 145),\n",
       " ('His', 143),\n",
       " ('Macb.', 137),\n",
       " ('It', 134),\n",
       " ('Be', 132),\n",
       " ('Your', 126),\n",
       " ('Our', 123),\n",
       " ('But', 120),\n",
       " ('Haue', 119),\n",
       " ('He', 107),\n",
       " ('For', 107),\n",
       " ('What', 100),\n",
       " ('This', 95)]"
      ]
     },
     "execution_count": 182,
     "metadata": {},
     "output_type": "execute_result"
    }
   ],
   "source": [
    "count_list = list(Macbeth_count.items())\n",
    "print(count_list)\n",
    "\n",
    "top_25 = sorted(count_list, key = lambda x: x[1], reverse=True)[:25]\n",
    "top_25"
   ]
  },
  {
   "cell_type": "code",
   "execution_count": 163,
   "metadata": {},
   "outputs": [
    {
     "data": {
      "image/png": "[encoded data removed]",
      "text/plain": [
       "<Figure size 720x432 with 1 Axes>"
      ]
     },
     "metadata": {
      "needs_background": "light"
     },
     "output_type": "display_data"
    }
   ],
   "source": [
    "import numpy as np\n",
    "import matplotlib.pyplot as plt\n",
    "%matplotlib inline\n",
    "\n",
    "# Your code here\n",
    "\n",
    "# Pseudo-code outline\n",
    "\n",
    "# Split the transcript into words\n",
    "# Create a dictionary\n",
    "# Iterate through the text of Macbeth\n",
    "# Update word counts\n",
    "# Sort words by counts in descending order\n",
    "# Create Bar Graph\n",
    "x = [item[0] for item in top_25]\n",
    "y = [item[1] for item in top_25]\n",
    "plt.figure(figsize=(10,6))\n",
    "plt.bar(x, y)\n",
    "\n",
    "# Include descriptive titles and labels\n",
    "plt.xlabel(\"Word\")\n",
    "plt.ylabel(\"Frequency\")\n",
    "plt.title(\"25 Most Used Words in Macbeth\")\n",
    "plt.show()"
   ]
  },
  {
   "cell_type": "markdown",
   "metadata": {},
   "source": [
    "## Level Up (Optional)\n",
    "This project should take you about an hour and a half to complete. If you're done much more quickly than that and are not behind in the course, feel free to deepen your knowledge by completing any or all of the following tasks until you run out of time:\n",
    "* Create a list of top characters by mentions of their names \n",
    "* Split the text by which character is talking\n",
    "* Create subgraphs of the most common words by character\n",
    "* Reduce the string to the text of the play itself. (Remove any initial notes, forward, introduction, appendix, etc.)\n",
    "* Come up with some other fun analyses of the text!\n",
    "\n",
    "## Summary\n",
    "Congratulations! You've got some extra practice combining various data types into useful programming patterns and done an initial analysis of a classic text!"
   ]
  },
  {
   "cell_type": "code",
   "execution_count": 176,
   "metadata": {},
   "outputs": [
    {
     "ename": "AttributeError",
     "evalue": "'str' object has no attribute 'append'",
     "output_type": "error",
     "traceback": [
      "\u001b[1;31m---------------------------------------------------------------------------\u001b[0m",
      "\u001b[1;31mAttributeError\u001b[0m                            Traceback (most recent call last)",
      "\u001b[1;32m<ipython-input-176-0b04235fea69>\u001b[0m in \u001b[0;36m<module>\u001b[1;34m\u001b[0m\n\u001b[0;32m      3\u001b[0m \u001b[1;33m\u001b[0m\u001b[0m\n\u001b[0;32m      4\u001b[0m \u001b[1;32mfor\u001b[0m \u001b[0mn\u001b[0m \u001b[1;32min\u001b[0m \u001b[0mlist\u001b[0m\u001b[1;33m(\u001b[0m\u001b[0mrange\u001b[0m\u001b[1;33m(\u001b[0m\u001b[1;36m0\u001b[0m\u001b[1;33m,\u001b[0m\u001b[0mlen\u001b[0m\u001b[1;33m(\u001b[0m\u001b[0mabc\u001b[0m\u001b[1;33m)\u001b[0m\u001b[1;33m)\u001b[0m\u001b[1;33m)\u001b[0m\u001b[1;33m:\u001b[0m\u001b[1;33m\u001b[0m\u001b[1;33m\u001b[0m\u001b[0m\n\u001b[1;32m----> 5\u001b[1;33m     \u001b[0mabc\u001b[0m\u001b[1;33m[\u001b[0m\u001b[0mn\u001b[0m\u001b[1;33m]\u001b[0m\u001b[1;33m.\u001b[0m\u001b[0mappend\u001b[0m\u001b[1;33m(\u001b[0m\u001b[1;34m\"Exeunt\"\u001b[0m\u001b[1;33m)\u001b[0m\u001b[1;33m\u001b[0m\u001b[1;33m\u001b[0m\u001b[0m\n\u001b[0m\u001b[0;32m      6\u001b[0m \u001b[1;33m\u001b[0m\u001b[0m\n\u001b[0;32m      7\u001b[0m \u001b[0mprint\u001b[0m\u001b[1;33m(\u001b[0m\u001b[0mabc\u001b[0m\u001b[1;33m[\u001b[0m\u001b[1;36m1\u001b[0m\u001b[1;33m]\u001b[0m\u001b[1;33m)\u001b[0m\u001b[1;33m\u001b[0m\u001b[1;33m\u001b[0m\u001b[0m\n",
      "\u001b[1;31mAttributeError\u001b[0m: 'str' object has no attribute 'append'"
     ]
    }
   ],
   "source": [
    "abc = str_only_macbeth.split(\"Exeunt\")\n",
    "# print (abc[1])\n",
    "\n",
    "for n in list(range(0,len(abc))):\n",
    "    abc[n].append(\"Exeunt\")\n",
    "\n",
    "print(abc[1])"
   ]
  },
  {
   "cell_type": "code",
   "execution_count": 178,
   "metadata": {},
   "outputs": [
    {
     "ename": "AttributeError",
     "evalue": "'str' object has no attribute 'append'",
     "output_type": "error",
     "traceback": [
      "\u001b[1;31m---------------------------------------------------------------------------\u001b[0m",
      "\u001b[1;31mAttributeError\u001b[0m                            Traceback (most recent call last)",
      "\u001b[1;32m<ipython-input-178-4d71e059d3b2>\u001b[0m in \u001b[0;36m<module>\u001b[1;34m\u001b[0m\n\u001b[1;32m----> 1\u001b[1;33m \u001b[1;34m\"hello\"\u001b[0m\u001b[1;33m.\u001b[0m\u001b[0mappend\u001b[0m\u001b[1;33m(\u001b[0m\u001b[1;34m\"abs\"\u001b[0m\u001b[1;33m)\u001b[0m\u001b[1;33m\u001b[0m\u001b[1;33m\u001b[0m\u001b[0m\n\u001b[0m",
      "\u001b[1;31mAttributeError\u001b[0m: 'str' object has no attribute 'append'"
     ]
    }
   ],
   "source": [
    "\"hello\".append(\"abs\")"
   ]
  },
  {
   "cell_type": "code",
   "execution_count": 189,
   "metadata": {},
   "outputs": [],
   "source": [
    "dict_a = {\"a\":1, \"c\":2, \"d\":3, \"e\":4}\n",
    "list_a = list(dict_a.items())"
   ]
  },
  {
   "cell_type": "code",
   "execution_count": 193,
   "metadata": {},
   "outputs": [
    {
     "data": {
      "text/plain": [
       "[('e', 4), ('d', 3), ('c', 2), ('a', 1)]"
      ]
     },
     "execution_count": 193,
     "metadata": {},
     "output_type": "execute_result"
    }
   ],
   "source": [
    "list_a\n",
    "ordera = sorted(list_a, key = lambda x: x[0], reverse=True)\n",
    "ordera"
   ]
  },
  {
   "cell_type": "code",
   "execution_count": null,
   "metadata": {},
   "outputs": [],
   "source": [
    "top_25 = sorted(count_list, key = lambda x: x[1], reverse=True)[:25]\n",
    "top_25"
   ]
  }
 ],
 "metadata": {
  "kernelspec": {
   "display_name": "learn-env",
   "language": "python",
   "name": "learn-env"
  },
  "language_info": {
   "codemirror_mode": {
    "name": "ipython",
    "version": 3
   },
   "file_extension": ".py",
   "mimetype": "text/x-python",
   "name": "python",
   "nbconvert_exporter": "python",
   "pygments_lexer": "ipython3",
   "version": "3.7.6"
  }
 },
 "nbformat": 4,
 "nbformat_minor": 2
}
